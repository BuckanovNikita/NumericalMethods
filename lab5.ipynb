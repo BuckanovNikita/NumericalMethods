{
 "cells": [
  {
   "cell_type": "code",
   "execution_count": 195,
   "metadata": {},
   "outputs": [],
   "source": [
    "import numpy as np\n",
    "from numpy import exp\n",
    "def mult(a, b):\n",
    "    res = np.matrix(np.zeros(a.shape))\n",
    "    for i in range(a.shape[0]):\n",
    "        res[i] = a[i]*b[i]\n",
    "    return res\n",
    "def ff(x):\n",
    "    return 100.0*exp(-mult((10.0*(x-0.5)),(10.0*(x-0.5))))"
   ]
  },
  {
   "cell_type": "code",
   "execution_count": 258,
   "metadata": {},
   "outputs": [],
   "source": [
    "def NewtonSolver(f, u0, eps=10**-12, h = 10**-5):\n",
    "    u = u0\n",
    "    dx = np.matrix(np.ones(u0.shape))\n",
    "    i = 0\n",
    "    fu = np.zeros( (u0.shape[0], u0.shape[0]) )\n",
    "    while abs(min(dx).item(0)) > eps :\n",
    "        print(\"Iteration:\", i)\n",
    "        i+=1\n",
    "        du = np.matrix(np.zeros(u0.shape), dtype = np.float64)\n",
    "        for j in range( u0.shape[0] ):\n",
    "            du[j-1] = 0 \n",
    "            du[j] = h\n",
    "            val = ( f(u+du) - f(u-du) )/(2*h)\n",
    "            for k in range( u0.shape[0] ):\n",
    "                fu[j][k]= val[k] \n",
    "        fu = fu.T\n",
    "        dx = -1 * np.linalg.inv(fu) * f(u)\n",
    "        u = u + dx\n",
    "    return u"
   ]
  },
  {
   "cell_type": "markdown",
   "metadata": {},
   "source": [
    "Для этой задачи можно написать следующую разностную схему:\n",
    "\\begin{equation} \\label{c5eq2}\n",
    "\t\\begin{cases}\n",
    "\t\t\\displaystyle \\left( u_{n+1} - u_n \\right) \\left( k_0 + k_1 \\frac{u_n^2 + u_{n+1}^2}{2} \\right) - \\left( u_n - u_{n-1} \\right) \\left( k_0 + k_1 \\frac{u_n^2 + u_{n-1}^2}{2} \\right) - h^2 f_n = 0 \\\\\n",
    "\t\tu_0 = u_N = 0\n",
    "\t\\end{cases}.\n",
    "\\end{equation}\n",
    "Здесь $h$ - шаг равномерной сетки, $N$ - число интервалов сетки. Данная система уравнений является нелинейной и решать ее лучше всего методом Ньютона."
   ]
  },
  {
   "cell_type": "code",
   "execution_count": 262,
   "metadata": {},
   "outputs": [],
   "source": [
    "global N, k0, k1, u0v, uNv, x\n",
    "N = 128\n",
    "k0 = 1\n",
    "k1 = 0.05\n",
    "u0v = 0\n",
    "uNv = 0 \n",
    "x = np.linspace(-1, 1, N+1)\n",
    "def F(u):\n",
    "    global N, k0, k1, u0v, uNv, x\n",
    "    res = np.matrix( np.zeros((N - 1, 1)) )\n",
    "    i = 0\n",
    "    res[i] = (u[i+1] - u[i]) * (k0 + k1 * (u[i]**2 + u[i+1]**2)/2) - u[i]*(k0 + k1 * (u[i]**2)/2) - (x[i]-x[i+1])**2*ff(np.matrix(x[i]))\n",
    "    i = N-2\n",
    "    p = u[i]\n",
    "    res[i] = (0 - u[i]) * (k0 + k1 * u[i]**2) - (u[i] - u[i-1])*(k0 + k1 * (u[i]**2 + u[i-1]**2)/2) - (x[i]-x[i+1])**2*ff(np.matrix(x[i]))\n",
    "    for i in range(1, N-2):\n",
    "        res[i] = (u[i+1] - u[i]) * (k0 + k1 * (u[i]**2 + u[i+1]**2)/2) - (u[i] - u[i-1])*(k0 + k1 * (u[i]**2 + u[i-1]**2)/2) - (x[i]-x[i+1])**2*ff(np.matrix(x[i]))\n",
    "    return res"
   ]
  },
  {
   "cell_type": "code",
   "execution_count": 263,
   "metadata": {},
   "outputs": [
    {
     "name": "stdout",
     "output_type": "stream",
     "text": [
      "Iteration: 0\n",
      "Iteration: 1\n",
      "Iteration: 2\n",
      "Iteration: 3\n",
      "Iteration: 4\n",
      "Iteration: 5\n"
     ]
    }
   ],
   "source": [
    "global N\n",
    "u0 = np.matrix(np.zeros((N-1, 1)))\n",
    "answer = NewtonSolver(F, u0)"
   ]
  },
  {
   "cell_type": "code",
   "execution_count": 266,
   "metadata": {},
   "outputs": [
    {
     "data": {
      "text/plain": [
       "[<matplotlib.lines.Line2D at 0x24e30eae160>]"
      ]
     },
     "execution_count": 266,
     "metadata": {},
     "output_type": "execute_result"
    },
    {
     "data": {
      "image/png": "[encoded data removed]",
      "text/plain": [
       "<Figure size 720x720 with 1 Axes>"
      ]
     },
     "metadata": {},
     "output_type": "display_data"
    }
   ],
   "source": [
    "global x\n",
    "import matplotlib.pyplot as plt\n",
    "plt.style.use('dark_background')\n",
    "plt.figure(figsize = (10,10))\n",
    "plt.plot(x, [0] + [t[0] for t in answer] + [0])"
   ]
  },
  {
   "cell_type": "code",
   "execution_count": null,
   "metadata": {},
   "outputs": [],
   "source": []
  }
 ],
 "metadata": {
  "kernelspec": {
   "display_name": "Python 3",
   "language": "python",
   "name": "python3"
  },
  "language_info": {
   "codemirror_mode": {
    "name": "ipython",
    "version": 3
   },
   "file_extension": ".py",
   "mimetype": "text/x-python",
   "name": "python",
   "nbconvert_exporter": "python",
   "pygments_lexer": "ipython3",
   "version": "3.6.4"
  }
 },
 "nbformat": 4,
 "nbformat_minor": 2
}
