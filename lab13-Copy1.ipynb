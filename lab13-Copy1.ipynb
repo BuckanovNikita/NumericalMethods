{
 "cells": [
  {
   "cell_type": "code",
   "execution_count": 3,
   "metadata": {},
   "outputs": [],
   "source": [
    "import numpy as np\n",
    "from numpy import pi\n",
    "import matplotlib.pyplot as plt\n",
    "%matplotlib notebook"
   ]
  },
  {
   "cell_type": "code",
   "execution_count": 4,
   "metadata": {},
   "outputs": [],
   "source": [
    "global g, d, m, i, v15, P0, T0, w, zt, cd, m3, S, Tv, Tz, v0\n",
    "g = 9.80665 #ускорение свободного падения\n",
    "d = 12.7 * 10**-3 #диаметр пули\n",
    "m = 48.3 * 10**-3 #масса пули\n",
    "i = 1.0629 #коэффиециен формы\n",
    "v15 = 820.0 #начальная скорость пули T = 15 c\n",
    "P0 = 750 #начальное давление\n",
    "T0 = 15 #начальная температура\n",
    "w = 0.5 #влажность воздуха\n",
    "zt = 1.35 * 10**-3 #коэффиециент температуры заряда\n",
    "cd = 0.0423 #коэффиециент деривации\n",
    "m3 = 0.1744 #коэффиециент убывания угловой скорости\n",
    "S = pi*d*d/4\n",
    "Tv = (T0 + 273.15)/(1 - 3*12.7/(8.0*P0) * w)\n",
    "\n",
    "def T(y):\n",
    "    global Tv\n",
    "    return Tv - 0.0065*y\n",
    "\n",
    "def p(y):\n",
    "    global Tv,P0\n",
    "    return 1.225 * np.power(T(y)/Tv, 4.256) * P0*288.15/(Tv*760.0)\n",
    "\n",
    "def s_speed(y):\n",
    "    return 340.294 * (T(y)/288.15)**(1/2.0)\n",
    "\n",
    "def cx(x):\n",
    "    pa = np.array([0.0525, -0.9476, 8.9342, -9.4610, 0.3207, 4.2980, -1.9382])\n",
    "    pb = np.array([1.0000, -15.4071, 178.6690, -580.8643, 985.5873, -853.9492, 296.9213])\n",
    "    pc = np.array([0.0531, 0.9449, 90.5063, 0.1639])\n",
    "    return np.polyval(pa,x**2)/np.polyval(pb,x**2) + pc[0] / (1+np.exp(-(x-pc[1])*pc[2]))+pc[3]\n",
    "\n",
    "Tz = T0\n",
    "v0 = v15*(1+zt*(Tz-15))\n",
    "\n",
    "def Fs(i,S,p,v,a):\n",
    "    return i*S*p*v*v/2*cx(v/a)"
   ]
  },
  {
   "cell_type": "code",
   "execution_count": 5,
   "metadata": {},
   "outputs": [],
   "source": [
    "butcher = [np.array([0, 0, 0, 0, 0, 0, 0], dtype=np.longdouble), \n",
    "           np.array([4/7, 0, 0, 0, 0, 0, 0], dtype=np.longdouble), \n",
    "           np.array([115/112, -5/16, 0, 0, 0, 0, 0], dtype=np.longdouble), \n",
    "           np.array([589/630, 5/18, -16/45, 0, 0, 0, 0], dtype=np.longdouble),\n",
    "           np.array([229/1200-29/6000*5**0.5, 119/240-187/1200*5**0.5, -14/75+34/375*5**0.5, -3/100*5**0.5, 0, 0, 0], dtype=np.longdouble),\n",
    "           np.array([71/2400-587/12000*5**0.5, 187/480-391/2400*5**0.5, -38/75+26/375*5**0.5, 27/80-3/400*5**0.5, (1+5**0.5)/4, 0, 0], dtype=np.longdouble),\n",
    "           np.array([-49/480+43/160*5**0.5, -425/96+51/32*5**0.5, 52/15-4/5*5**0.5, -27/16+3/16*5**0.5, 5/4-3/4*5**0.5, 5/2-0.5*5**0.5, 0], dtype=np.longdouble) \n",
    "          ]\n",
    "a = np.array([0, 4/7, 5/7, 6/7, (5-5**0.5)/10, (5+5**0.5)/10, 1],dtype=np.longdouble)\n",
    "b = np.array([1/12, 0, 0, 0, 5/12, 5/12, 1/12], dtype=np.longdouble)"
   ]
  },
  {
   "cell_type": "markdown",
   "metadata": {},
   "source": [
    "butcher = [[0, 0, 0, 0], [0.5, 0, 0, 0], [0, 0.5, 0, 0], [0, 0, 1, 0]]\n",
    "a = np.matrix('0; 0.5; 0.5; 1')\n",
    "v = 1/6\n",
    "b = np.matrix([[v], [2*v], [2*v], [v]])"
   ]
  },
  {
   "cell_type": "code",
   "execution_count": 6,
   "metadata": {},
   "outputs": [],
   "source": [
    "def mult(vect,list_):\n",
    "    res = np.matrix(np.zeros(vect[0].shape))\n",
    "    for v,l in zip(vect,list_):\n",
    "        res = res + v*l\n",
    "    return res\n",
    "def universal_runge_kutta(f ,u0, t, butcher, a, b):\n",
    "    u = np.array([u0] * len(t))\n",
    "    w = [np.matrix(np.zeros(u0.shape))] * len(butcher)\n",
    "    for i,ui in enumerate(u[:-1]):\n",
    "        tau = t[i+1] - t[i]\n",
    "        for j,wj in enumerate(w):\n",
    "            w[j] = f(u[i] + tau * mult(w, butcher[j]), t[i] + tau * a[j])\n",
    "        u[i+1] = u[i] + tau * mult(w,b)\n",
    "    return u, t\n",
    "def f(ui, x):\n",
    "    #print(ui,'\\n')\n",
    "    global m, g, i, S\n",
    "    u = ui[0].item(0)\n",
    "    gamma = ui[1].item(0)\n",
    "    y = ui[2].item(0)\n",
    "    t = ui[3].item(0)\n",
    "    v = u * np.sqrt(1+gamma**2)\n",
    "    return np.matrix([\n",
    "    [-Fs(i, S, p(y), v, s_speed(y)) / (m*v)],\n",
    "    [-g/u**2],\n",
    "    [gamma],\n",
    "    [1/u]\n",
    "    ])"
   ]
  },
  {
   "cell_type": "markdown",
   "metadata": {},
   "source": [
    "print('T0 = 15\\n')\n",
    "theta0 = pi/300\n",
    "theta1 = pi/50\n",
    "eps = 10**-15\n",
    "n = 0 \n",
    "while True:\n",
    "    print(\"iteration\",n)\n",
    "    theta = (theta0+theta1)/2\n",
    "    print(theta)\n",
    "    u0 = np.array([          \n",
    "        [v0*np.cos(theta)], #u\n",
    "        [np.tan(theta)],    #gamma\n",
    "        [0.0],              #y\n",
    "        [0.0]               #t\n",
    "        ])\n",
    "    ans = universal_runge_kutta(f, u0, np.linspace(0,2000,16), butcher, a, b)[0][-1][2].item(0)\n",
    "    print(ans)\n",
    "    if abs(ans) < 10**-5:\n",
    "        break\n",
    "    if ans > 0:\n",
    "        theta1 = theta\n",
    "    else:\n",
    "        theta0 = theta\n",
    "    n+=1\n",
    "theta*180/pi/0.06"
   ]
  },
  {
   "cell_type": "code",
   "execution_count": 7,
   "metadata": {},
   "outputs": [
    {
     "name": "stdout",
     "output_type": "stream",
     "text": [
      "T0 = 15\n",
      "\n",
      "iteration 0\n",
      "0.019999999999999997\n",
      "iteration 1\n",
      "0.005527825819328758\n",
      "iteration 2\n",
      "4.0500266431584e-06\n",
      "iteration 3\n",
      "4.514686541279289e-10\n"
     ]
    },
    {
     "data": {
      "text/plain": [
       "33.93044250040451"
      ]
     },
     "execution_count": 7,
     "metadata": {},
     "output_type": "execute_result"
    }
   ],
   "source": [
    "print('T0 = 15\\n')\n",
    "theta0 = 0.01\n",
    "theta1 = 0.03\n",
    "eps = 10**-15\n",
    "n = 0 \n",
    "while abs(theta1 - theta0) > eps:\n",
    "    print(\"iteration\",n)\n",
    "    print(abs(theta1 - theta0))\n",
    "    u0 = np.array([          \n",
    "        [v0*np.cos(theta1)], #u\n",
    "        [np.tan(theta1)],   #gamma\n",
    "        [0.0],                 #y\n",
    "        [0.0]                  #t\n",
    "        ])\n",
    "    ans1 = universal_runge_kutta(f, u0, np.linspace(0,2000,8), butcher, a, b)\n",
    "    \n",
    "    u0 = np.array([          \n",
    "        [v0*np.cos(theta0)],   #u\n",
    "        [np.tan(theta0)],      #gamma\n",
    "        [0.0],                 #y\n",
    "        [0.0]                  #t\n",
    "        ])\n",
    "    ans0 = universal_runge_kutta(f, u0, np.linspace(0,2000,8), butcher, a, b)\n",
    "    new_theta = theta1 - (theta1 - theta0) * ans1[0][-1][2].item(0) / (ans1[0][-1][2].item(0) - ans0[0][-1][2].item(0))\n",
    "    theta0 = theta1\n",
    "    theta1 = new_theta\n",
    "    n+=1\n",
    "theta1*180/pi/0.06"
   ]
  },
  {
   "cell_type": "code",
   "execution_count": 8,
   "metadata": {},
   "outputs": [
    {
     "name": "stdout",
     "output_type": "stream",
     "text": [
      "T0 = 5\n",
      "\n",
      "iteration 0\n",
      "0.09000000000000001\n",
      "iteration 1\n",
      "0.06213691282389146\n",
      "iteration 2\n",
      "1.5325823330733512e-05\n",
      "iteration 3\n",
      "4.0579831162013136e-10\n"
     ]
    },
    {
     "data": {
      "text/plain": [
       "36.141949438033194"
      ]
     },
     "execution_count": 8,
     "metadata": {},
     "output_type": "execute_result"
    }
   ],
   "source": [
    "global g, d, m, i, v15, P0, T0, w, zt, cd, m3, S, Tv, Tz, v0\n",
    "g = 9.80665 #ускорение свободного падения\n",
    "d = 12.7 * 10**-3 #диаметр пули\n",
    "m = 48.3 * 10**-3 #масса пули\n",
    "i = 1.0629 #коэффиециен формы\n",
    "v15 = 820.0 #начальная скорость пули T = 15 c\n",
    "P0 = 750 #начальное давление\n",
    "T0 = 5 #начальная температура\n",
    "w = 0.5 #влажность воздуха\n",
    "zt = 1.35 * 10**-3 #коэффиециент температуры заряда\n",
    "cd = 0.0423 #коэффиециент деривации\n",
    "m3 = 0.1744 #коэффиециент убывания угловой скорости\n",
    "S = pi*d*d/4\n",
    "Tv = (T0 + 273.15)/(1 - 3*12.7/(8.0*P0) * w)\n",
    "\n",
    "def T(y):\n",
    "    global Tv\n",
    "    return Tv - 0.0065*y\n",
    "\n",
    "def p(y):\n",
    "    global Tv,P0\n",
    "    return 1.225 * np.power(T(y)/Tv, 4.256) * P0*288.15/(Tv*760.0)\n",
    "\n",
    "def s_speed(y):\n",
    "    return 340.294 * (T(y)/288.15)**(1/2.0)\n",
    "\n",
    "def cx(x):\n",
    "    pa = np.array([0.0525, -0.9476, 8.9342, -9.4610, 0.3207, 4.2980, -1.9382])\n",
    "    pb = np.array([1.0000, -15.4071, 178.6690, -580.8643, 985.5873, -853.9492, 296.9213])\n",
    "    pc = np.array([0.0531, 0.9449, 90.5063, 0.1639])\n",
    "    return np.polyval(pa,x**2)/np.polyval(pb,x**2) + pc[0] / (1+np.exp(-(x-pc[1])*pc[2]))+pc[3]\n",
    "\n",
    "Tz = T0\n",
    "v0 = v15*(1+zt*(Tz-15))\n",
    "\n",
    "def Fs(i,S,p,v,a):\n",
    "    return i*S*p*v*v/2*cx(v/a)\n",
    "\n",
    "print('T0 = 5\\n')\n",
    "T0 = 5\n",
    "theta0 = 0.01\n",
    "theta1 = 0.1\n",
    "eps = 10**-15\n",
    "n = 0 \n",
    "while abs(theta1 - theta0) > eps:\n",
    "    print(\"iteration\",n)\n",
    "    print(abs(theta1 - theta0))\n",
    "    u0 = np.array([          \n",
    "        [v0*np.cos(theta1)], #u\n",
    "        [np.tan(theta1)],   #gamma\n",
    "        [0.0],                 #y\n",
    "        [0.0]                  #t\n",
    "        ])\n",
    "    ans1 = universal_runge_kutta(f, u0, np.linspace(0,2000,8), butcher, a, b)\n",
    "    \n",
    "    u0 = np.array([          \n",
    "        [v0*np.cos(theta0)],   #u\n",
    "        [np.tan(theta0)],      #gamma\n",
    "        [0.0],                 #y\n",
    "        [0.0]                  #t\n",
    "        ])\n",
    "    ans0 = universal_runge_kutta(f, u0, np.linspace(0,2000,8), butcher, a, b)\n",
    "    new_theta = theta1 - (theta1 - theta0) * ans1[0][-1][2].item(0) / (ans1[0][-1][2].item(0) - ans0[0][-1][2].item(0))\n",
    "    theta0 = theta1\n",
    "    theta1 = new_theta\n",
    "    n+=1\n",
    "theta1*180/pi/0.06"
   ]
  },
  {
   "cell_type": "code",
   "execution_count": 9,
   "metadata": {},
   "outputs": [
    {
     "name": "stdout",
     "output_type": "stream",
     "text": [
      "Iteration: 0\n",
      "Iteration: 1\n",
      "Iteration: 2\n",
      "Iteration: 3\n",
      "Theta: 33.93044250040452\n",
      "Alpha: 0.19036621162672127\n"
     ]
    }
   ],
   "source": [
    "global g, d, m, i, v15, P0, T0, w, zt, cd, m3, S, Tv, Tz, v0, V\n",
    "g = 9.80665 #ускорение свободного падения\n",
    "d = 12.7 * 10**-3 #диаметр пули\n",
    "m = 48.3 * 10**-3 #масса пули\n",
    "i = 1.0629 #коэффиециен формы\n",
    "v15 = 820.0 #начальная скорость пули T = 15 c\n",
    "P0 = 750 #начальное давление\n",
    "T0 = 15 #начальная температура\n",
    "w = 0.5 #влажность воздуха\n",
    "zt = 1.35 * 10**-3 #коэффиециент температуры заряда\n",
    "cd = 0.0423 #коэффиециент деривации\n",
    "m3 = 0.1744 #коэффиециент убывания угловой скорости\n",
    "S = pi*d*d/4\n",
    "V = -10\n",
    "Tv = (T0 + 273.15)/(1 - 3*12.7/(8.0*P0) * w)\n",
    "\n",
    "def T(y):\n",
    "    global Tv\n",
    "    return Tv - 0.0065*y\n",
    "\n",
    "def p(y):\n",
    "    global Tv,P0\n",
    "    return 1.225 * np.power(T(y)/Tv, 4.256) * P0*288.15/(Tv*760.0)\n",
    "\n",
    "def s_speed(y):\n",
    "    return 340.294 * (T(y)/288.15)**(1/2.0)\n",
    "\n",
    "def cx(x):\n",
    "    pa = np.array([0.0525, -0.9476, 8.9342, -9.4610, 0.3207, 4.2980, -1.9382])\n",
    "    pb = np.array([1.0000, -15.4071, 178.6690, -580.8643, 985.5873, -853.9492, 296.9213])\n",
    "    pc = np.array([0.0531, 0.9449, 90.5063, 0.1639])\n",
    "    return np.polyval(pa,x**2)/np.polyval(pb,x**2) + pc[0] / (1+np.exp(-(x-pc[1])*pc[2]))+pc[3]\n",
    "\n",
    "Tz = T0\n",
    "v0 = v15*(1+zt*(Tz-15))\n",
    "\n",
    "def Fs(i,S,p,v,a):\n",
    "    return i*S*p*v*v/2*cx(v/a)\n",
    "\n",
    "def f(ui, x):\n",
    "    global m, g, i, S, cd, m3,V\n",
    "    u = ui[0].item(0)\n",
    "    gamma = ui[1].item(0)\n",
    "    y = ui[2].item(0)\n",
    "    t = ui[3].item(0)\n",
    "    z = ui[4].item(0)\n",
    "    q = ui[5].item(0)\n",
    "    v = u * np.sqrt(1+gamma**2)\n",
    "    return np.matrix([\n",
    "    [-Fs(i, S, p(y), v, s_speed(y)) / (m*v)],\n",
    "    [-g/u**2],\n",
    "    [gamma],\n",
    "    [1/u],\n",
    "    [q*pi*v0*cd+V/u],\n",
    "    [np.exp(-m3*t)/(v**2*u)]\n",
    "    ])\n",
    "\n",
    "theta = 0.01\n",
    "alpha = pi/4\n",
    "\n",
    "def NewtonSolver(f, u0, eps=10**-12, h = 10**-5):\n",
    "    u = u0\n",
    "    dx = np.matrix(np.ones(u0.shape))\n",
    "    i = 0\n",
    "    fu = np.zeros( (u0.shape[0], u0.shape[0]) )\n",
    "    while abs(min(dx).item(0)) > eps :\n",
    "        print(\"Iteration:\", i)\n",
    "        i+=1\n",
    "        du = np.matrix(np.zeros(u0.shape), dtype = np.float64)\n",
    "        for j in range( u0.shape[0] ):\n",
    "            du[j-1] = 0 \n",
    "            du[j] = h\n",
    "            val = ( f(u+du) - f(u-du) )/(2*h)\n",
    "            for k in range( u0.shape[0] ):\n",
    "                fu[j][k]= val[k] \n",
    "        fu = fu.T\n",
    "        dx = -1 * np.linalg.inv(fu) * f(u)\n",
    "        u = u + dx\n",
    "    return u\n",
    "\n",
    "def newton_f(u):\n",
    "    global v0\n",
    "    theta = u[0].item(0)\n",
    "    alpha = u[1].item(0)\n",
    "    u0 = np.array([          \n",
    "        [v0*np.cos(theta)], #u\n",
    "        [np.tan(theta)],   #gamma\n",
    "        [0.0],                 #y\n",
    "        [0.0],                  #t\n",
    "        [0.0],                 #z\n",
    "        [np.sin(alpha)]        #q\n",
    "        ])\n",
    "    ans0 = universal_runge_kutta(f, u0, np.linspace(0,2000,8), butcher, a, b)\n",
    "    return np.matrix( [[ans0[0][-1][2].item(0)],[ans0[0][-1][4].item(0)]])\n",
    "\n",
    "res = NewtonSolver(newton_f, np.matrix( [[theta],[alpha]]))\n",
    "res*=180/pi/0.06\n",
    "print('Theta:', res[0].item(0))\n",
    "print('Alpha:', res[1].item(0))"
   ]
  },
  {
   "cell_type": "code",
   "execution_count": 13,
   "metadata": {},
   "outputs": [
    {
     "name": "stderr",
     "output_type": "stream",
     "text": [
      "D:\\Programs\\Anaconda3\\lib\\site-packages\\ipykernel_launcher.py:32: RuntimeWarning: overflow encountered in exp\n",
      "D:\\Programs\\Anaconda3\\lib\\site-packages\\numpy\\lib\\polynomial.py:680: RuntimeWarning: overflow encountered in double_scalars\n",
      "  y = y * x + p[i]\n",
      "D:\\Programs\\Anaconda3\\lib\\site-packages\\ipykernel_launcher.py:32: RuntimeWarning: invalid value encountered in double_scalars\n",
      "D:\\Programs\\Anaconda3\\lib\\site-packages\\ipykernel_launcher.py:23: RuntimeWarning: invalid value encountered in power\n",
      "D:\\Programs\\Anaconda3\\lib\\site-packages\\ipykernel_launcher.py:32: RuntimeWarning: invalid value encountered in cdouble_scalars\n",
      "D:\\Programs\\Anaconda3\\lib\\site-packages\\ipykernel_launcher.py:32: RuntimeWarning: invalid value encountered in true_divide\n",
      "D:\\Programs\\Anaconda3\\lib\\site-packages\\ipykernel_launcher.py:49: RuntimeWarning: invalid value encountered in cdouble_scalars\n",
      "D:\\Programs\\Anaconda3\\lib\\site-packages\\ipykernel_launcher.py:13: ComplexWarning: Casting complex values to real discards the imaginary part\n",
      "  del sys.path[0]\n",
      "D:\\Programs\\Anaconda3\\lib\\site-packages\\ipykernel_launcher.py:38: RuntimeWarning: invalid value encountered in cdouble_scalars\n",
      "D:\\Programs\\Anaconda3\\lib\\site-packages\\numpy\\lib\\polynomial.py:680: RuntimeWarning: overflow encountered in cdouble_scalars\n",
      "  y = y * x + p[i]\n",
      "D:\\Programs\\Anaconda3\\lib\\site-packages\\numpy\\lib\\polynomial.py:680: RuntimeWarning: invalid value encountered in cdouble_scalars\n",
      "  y = y * x + p[i]\n"
     ]
    }
   ],
   "source": [
    "import math\n",
    "global g, d, m, i, v15, P0, T0, w, zt, cd, m3, S, Tv, Tz, v0\n",
    "g = 9.80665 #ускорение свободного падения\n",
    "d = 12.7 * 10**-3 #диаметр пули\n",
    "m = 48.3 * 10**-3 #масса пули\n",
    "i = 1.0629 #коэффиециен формы\n",
    "v15 = 820.0 #начальная скорость пули T = 15 c\n",
    "P0 = 750 #начальное давление\n",
    "T0 = 5 #начальная температура\n",
    "w = 0.5 #влажность воздуха\n",
    "zt = 1.35 * 10**-3 #коэффиециент температуры заряда\n",
    "cd = 0.0423 #коэффиециент деривации\n",
    "m3 = 0.1744 #коэффиециент убывания угловой скорости\n",
    "S = pi*d*d/4\n",
    "Tv = (T0 + 273.15)/(1 - 3*12.7/(8.0*P0) * w)\n",
    "\n",
    "def T(y):\n",
    "    global Tv\n",
    "    return Tv - 0.0065*y\n",
    "\n",
    "def p(y):\n",
    "    global Tv,P0\n",
    "    return 1.225 * np.power(T(y)/Tv, 4.256) * P0*288.15/(Tv*760.0)\n",
    "\n",
    "def s_speed(y):\n",
    "    return 340.294 * (T(y)/288.15)**(1/2.0)\n",
    "\n",
    "def cx(x):\n",
    "    pa = np.array([0.0525, -0.9476, 8.9342, -9.4610, 0.3207, 4.2980, -1.9382])\n",
    "    pb = np.array([1.0000, -15.4071, 178.6690, -580.8643, 985.5873, -853.9492, 296.9213])\n",
    "    pc = np.array([0.0531, 0.9449, 90.5063, 0.1639])\n",
    "    return np.polyval(pa,x**2)/np.polyval(pb,x**2) + pc[0] / (1+np.exp(-(x-pc[1])*pc[2]))+pc[3]\n",
    "\n",
    "Tz = T0\n",
    "v0 = v15*(1+zt*(Tz-15))\n",
    "\n",
    "def Fs(i,S,p,v,a):\n",
    "    return i*S*p*v*v/2*cx(v/a)\n",
    "\n",
    "def f(ui, x):\n",
    "    #print(ui,'\\n')\n",
    "    global m, g, i, S\n",
    "    u = ui[0].item(0)\n",
    "    gamma = ui[1].item(0)\n",
    "    y = ui[2].item(0)\n",
    "    t = ui[3].item(0)\n",
    "    v = u * np.sqrt(1+gamma**2)\n",
    "    return np.matrix([\n",
    "    [-Fs(i, S, p(y), v, s_speed(y)) / (m*v)],\n",
    "    [-g/u**2],\n",
    "    [gamma],\n",
    "    [1/u]\n",
    "    ])\n",
    "\n",
    "\n",
    "x = np.linspace(0.0001,8000,256)\n",
    "phi = np.linspace(0.0001,pi/2-0.0001,60)\n",
    "dist = []\n",
    "for theta in phi:\n",
    "    u0 = np.array([          \n",
    "        [v0*np.cos(theta)],    #u\n",
    "        [np.tan(theta)],       #gamma\n",
    "        [0.0],                 #y\n",
    "        [0.0]                  #t\n",
    "        ])\n",
    "    ans0 = universal_runge_kutta(f, u0, x, butcher, a, b)\n",
    "    arr = [n[2].item(0)>=0 for n in ans0[0]].index(False)\n",
    "    dist.append(x[arr-1])"
   ]
  },
  {
   "cell_type": "code",
   "execution_count": 14,
   "metadata": {},
   "outputs": [
    {
     "data": {
      "text/plain": [
       "[<matplotlib.lines.Line2D at 0x2f4483b6978>]"
      ]
     },
     "execution_count": 14,
     "metadata": {},
     "output_type": "execute_result"
    },
    {
     "data": {
      "image/png": "[encoded data removed]",
      "text/plain": [
       "<Figure size 432x288 with 1 Axes>"
      ]
     },
     "metadata": {},
     "output_type": "display_data"
    }
   ],
   "source": [
    "plt.figure()\n",
    "plt.plot(phi,dist)"
   ]
  },
  {
   "cell_type": "code",
   "execution_count": 15,
   "metadata": {},
   "outputs": [
    {
     "data": {
      "text/plain": [
       "5803.921596078431"
      ]
     },
     "execution_count": 15,
     "metadata": {},
     "output_type": "execute_result"
    }
   ],
   "source": [
    "max(dist)"
   ]
  },
  {
   "cell_type": "code",
   "execution_count": 16,
   "metadata": {},
   "outputs": [
    {
     "name": "stderr",
     "output_type": "stream",
     "text": [
      "D:\\Programs\\Anaconda3\\lib\\site-packages\\ipykernel_launcher.py:32: RuntimeWarning: overflow encountered in exp\n",
      "D:\\Programs\\Anaconda3\\lib\\site-packages\\numpy\\lib\\polynomial.py:680: RuntimeWarning: overflow encountered in double_scalars\n",
      "  y = y * x + p[i]\n",
      "D:\\Programs\\Anaconda3\\lib\\site-packages\\ipykernel_launcher.py:32: RuntimeWarning: invalid value encountered in double_scalars\n",
      "D:\\Programs\\Anaconda3\\lib\\site-packages\\ipykernel_launcher.py:23: RuntimeWarning: invalid value encountered in power\n",
      "D:\\Programs\\Anaconda3\\lib\\site-packages\\ipykernel_launcher.py:13: ComplexWarning: Casting complex values to real discards the imaginary part\n",
      "  del sys.path[0]\n",
      "D:\\Programs\\Anaconda3\\lib\\site-packages\\ipykernel_launcher.py:32: RuntimeWarning: invalid value encountered in cdouble_scalars\n",
      "D:\\Programs\\Anaconda3\\lib\\site-packages\\ipykernel_launcher.py:32: RuntimeWarning: invalid value encountered in true_divide\n",
      "D:\\Programs\\Anaconda3\\lib\\site-packages\\ipykernel_launcher.py:49: RuntimeWarning: invalid value encountered in cdouble_scalars\n",
      "D:\\Programs\\Anaconda3\\lib\\site-packages\\ipykernel_launcher.py:38: RuntimeWarning: invalid value encountered in cdouble_scalars\n"
     ]
    },
    {
     "data": {
      "text/plain": [
       "5803.921596078431"
      ]
     },
     "execution_count": 16,
     "metadata": {},
     "output_type": "execute_result"
    },
    {
     "data": {
      "image/png": "[encoded data removed]",
      "text/plain": [
       "<Figure size 432x288 with 1 Axes>"
      ]
     },
     "metadata": {},
     "output_type": "display_data"
    }
   ],
   "source": [
    "x = np.linspace(0.0001,8000,256)\n",
    "phi = np.linspace(0.4,1,60)\n",
    "dist = []\n",
    "for theta in phi:\n",
    "    u0 = np.array([          \n",
    "        [v0*np.cos(theta)],    #u\n",
    "        [np.tan(theta)],       #gamma\n",
    "        [0.0],                 #y\n",
    "        [0.0]                  #t\n",
    "        ])\n",
    "    ans0 = universal_runge_kutta(f, u0, x, butcher, a, b)\n",
    "    arr = [n[2].item(0)>=0 for n in ans0[0]].index(False)\n",
    "    dist.append(x[arr-1])\n",
    "plt.figure()\n",
    "plt.plot(phi,dist)\n",
    "max(dist)"
   ]
  },
  {
   "cell_type": "code",
   "execution_count": 18,
   "metadata": {},
   "outputs": [
    {
     "name": "stderr",
     "output_type": "stream",
     "text": [
      "D:\\Programs\\Anaconda3\\lib\\site-packages\\ipykernel_launcher.py:32: RuntimeWarning: overflow encountered in exp\n",
      "D:\\Programs\\Anaconda3\\lib\\site-packages\\numpy\\lib\\polynomial.py:680: RuntimeWarning: overflow encountered in double_scalars\n",
      "  y = y * x + p[i]\n",
      "D:\\Programs\\Anaconda3\\lib\\site-packages\\ipykernel_launcher.py:32: RuntimeWarning: invalid value encountered in double_scalars\n",
      "D:\\Programs\\Anaconda3\\lib\\site-packages\\ipykernel_launcher.py:23: RuntimeWarning: invalid value encountered in power\n",
      "D:\\Programs\\Anaconda3\\lib\\site-packages\\ipykernel_launcher.py:13: ComplexWarning: Casting complex values to real discards the imaginary part\n",
      "  del sys.path[0]\n",
      "D:\\Programs\\Anaconda3\\lib\\site-packages\\ipykernel_launcher.py:32: RuntimeWarning: invalid value encountered in cdouble_scalars\n",
      "D:\\Programs\\Anaconda3\\lib\\site-packages\\ipykernel_launcher.py:32: RuntimeWarning: invalid value encountered in true_divide\n",
      "D:\\Programs\\Anaconda3\\lib\\site-packages\\ipykernel_launcher.py:49: RuntimeWarning: invalid value encountered in cdouble_scalars\n",
      "D:\\Programs\\Anaconda3\\lib\\site-packages\\ipykernel_launcher.py:38: RuntimeWarning: invalid value encountered in cdouble_scalars\n"
     ]
    },
    {
     "data": {
      "text/plain": [
       "5823.874782583171"
      ]
     },
     "execution_count": 18,
     "metadata": {},
     "output_type": "execute_result"
    },
    {
     "data": {
      "image/png": "[encoded data removed]",
      "text/plain": [
       "<Figure size 432x288 with 1 Axes>"
      ]
     },
     "metadata": {},
     "output_type": "display_data"
    }
   ],
   "source": [
    "x = np.linspace(0.0001,8000,512)\n",
    "phi = np.linspace(0.55,0.8,60)\n",
    "dist = []\n",
    "for theta in phi:\n",
    "    u0 = np.array([          \n",
    "        [v0*np.cos(theta)],    #u\n",
    "        [np.tan(theta)],       #gamma\n",
    "        [0.0],                 #y\n",
    "        [0.0]                  #t\n",
    "        ])\n",
    "    ans0 = universal_runge_kutta(f, u0, x, butcher, a, b)\n",
    "    arr = [n[2].item(0)>=0 for n in ans0[0]].index(False)\n",
    "    dist.append(x[arr-1])\n",
    "plt.figure()\n",
    "plt.plot(phi,dist)\n",
    "max(dist)"
   ]
  },
  {
   "cell_type": "code",
   "execution_count": null,
   "metadata": {},
   "outputs": [],
   "source": []
  }
 ],
 "metadata": {
  "kernelspec": {
   "display_name": "Python 3",
   "language": "python",
   "name": "python3"
  },
  "language_info": {
   "codemirror_mode": {
    "name": "ipython",
    "version": 3
   },
   "file_extension": ".py",
   "mimetype": "text/x-python",
   "name": "python",
   "nbconvert_exporter": "python",
   "pygments_lexer": "ipython3",
   "version": "3.6.4"
  },
  "varInspector": {
   "cols": {
    "lenName": 16,
    "lenType": 16,
    "lenVar": 40
   },
   "kernels_config": {
    "python": {
     "delete_cmd_postfix": "",
     "delete_cmd_prefix": "del ",
     "library": "var_list.py",
     "varRefreshCmd": "print(var_dic_list())"
    },
    "r": {
     "delete_cmd_postfix": ") ",
     "delete_cmd_prefix": "rm(",
     "library": "var_list.r",
     "varRefreshCmd": "cat(var_dic_list()) "
    }
   },
   "types_to_exclude": [
    "module",
    "function",
    "builtin_function_or_method",
    "instance",
    "_Feature"
   ],
   "window_display": false
  }
 },
 "nbformat": 4,
 "nbformat_minor": 2
}
