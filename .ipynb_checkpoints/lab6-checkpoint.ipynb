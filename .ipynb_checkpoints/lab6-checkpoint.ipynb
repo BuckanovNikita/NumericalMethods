{
 "cells": [
  {
   "cell_type": "code",
   "execution_count": 40,
   "metadata": {},
   "outputs": [
    {
     "name": "stdout",
     "output_type": "stream",
     "text": [
      "Число отрезков: 8\n",
      "Iteration: 0\n",
      "||dx||: 2571.7040966043905\n",
      "Iteration: 1\n",
      "||dx||: 2792.6584364641453\n",
      "Iteration: 2\n",
      "||dx||: 12.526115009160053\n",
      "Iteration: 3\n",
      "||dx||: 154.89519095654813\n",
      "Iteration: 4\n",
      "||dx||: 106.6922597338254\n",
      "Iteration: 5\n",
      "||dx||: 1618.065433286479\n",
      "Iteration: 6\n",
      "||dx||: 186.96879207644085\n",
      "Iteration: 7\n",
      "||dx||: 5.132140779262232\n",
      "Iteration: 8\n",
      "||dx||: 5.344205237446216\n",
      "Iteration: 9\n",
      "||dx||: 0.06721114639414419\n",
      "Iteration: 10\n",
      "||dx||: 3.661777161884188e-06\n",
      "Iteration: 11\n",
      "||dx||: 8.612102264132712e-15\n",
      "Число отрезков: 16\n",
      "Iteration: 0\n",
      "||dx||: 0.2711778996078072\n",
      "Iteration: 1\n",
      "||dx||: 0.26987001529399546\n",
      "Iteration: 2\n",
      "||dx||: 1.0166902004691691e-05\n",
      "Iteration: 3\n",
      "||dx||: 3.9242867018362595e-15\n",
      "Число отрезков: 32\n",
      "Iteration: 0\n",
      "||dx||: 0.09769033236322908\n",
      "Iteration: 1\n",
      "||dx||: 0.07638545728064919\n",
      "Iteration: 2\n",
      "||dx||: 8.93166489594349e-06\n",
      "Iteration: 3\n",
      "||dx||: 2.5949006289016464e-15\n",
      "Число отрезков: 64\n",
      "Iteration: 0\n",
      "||dx||: 0.21651352109171773\n",
      "Iteration: 1\n",
      "||dx||: 0.045821434470341156\n",
      "Iteration: 2\n",
      "||dx||: 6.381453088602222e-06\n",
      "Iteration: 3\n",
      "||dx||: 1.311601794290085e-15\n",
      "Число отрезков: 128\n",
      "Iteration: 0\n",
      "||dx||: 0.4202593558095081\n",
      "Iteration: 1\n",
      "||dx||: 0.03944058252733178\n",
      "Iteration: 2\n",
      "||dx||: 5.708939244558233e-06\n",
      "Iteration: 3\n",
      "||dx||: 1.056545876505709e-15\n",
      "Число отрезков: 256\n",
      "Iteration: 0\n",
      "||dx||: 0.8091787052234043\n",
      "Iteration: 1\n",
      "||dx||: 0.03808683524896216\n",
      "Iteration: 2\n",
      "||dx||: 5.540426914309294e-06\n",
      "Iteration: 3\n",
      "||dx||: 9.9747287788094e-16\n",
      "Число отрезков: 512\n",
      "Iteration: 0\n",
      "||dx||: 1.581843724554082\n",
      "Iteration: 1\n",
      "||dx||: 0.03809129673852527\n",
      "Iteration: 2\n",
      "||dx||: 5.498524734855272e-06\n",
      "Iteration: 3\n",
      "||dx||: 9.83015539259499e-16\n"
     ]
    }
   ],
   "source": [
    "import numpy as np\n",
    "from numpy import exp\n",
    "\n",
    "def matprint(mat, fmt=\"g\"):\n",
    "    col_maxes = [max([len((\"{:\"+fmt+\"}\").format(x)) for x in col]) for col in mat.T]\n",
    "    for x in mat:\n",
    "        for i, y in enumerate(x):\n",
    "            print((\"{:\"+str(col_maxes[i])+fmt+\"}\").format(y), end=\"  \")\n",
    "        print(\"\")\n",
    "\n",
    "def mult(a, b):\n",
    "    res = np.matrix(np.zeros(a.shape), dtype = np.float64)\n",
    "    for i in range(a.shape[0]):\n",
    "        res[i] = a[i]*b[i]\n",
    "    return res\n",
    "\n",
    "def NewtonSolver(f, u0, eps=10**-12, h = 10**-5):\n",
    "    global N, x\n",
    "    u = u0\n",
    "    dx = np.matrix(np.ones(u0.shape), dtype = np.float64)\n",
    "    i = 0\n",
    "    fu = np.zeros( (u0.shape[0], u0.shape[0]), dtype = np.float64)\n",
    "    while (sum(mult(dx,dx)).item(0))**1/2 > eps :\n",
    "        print(\"Iteration:\", i)\n",
    "        i+=1\n",
    "        du = np.matrix(np.zeros(u0.shape), dtype = np.float64)\n",
    "        for j in range( u0.shape[0]):\n",
    "            du[j-1] = 0\n",
    "            du[j] = h\n",
    "            val = ( f(u+du) - f(u-du) )/(2.0*h)\n",
    "            for k in range( u0.shape[0]):\n",
    "                fu[j][k]= val[k]\n",
    "        fu = fu.T\n",
    "        dx = -1 * np.linalg.inv(fu) * f(u)\n",
    "        u = u + dx\n",
    "        print('||dx||:',(sum(mult(dx,dx)).item(0))**1/2)\n",
    "    return u\n",
    "\n",
    "global N, k0, k1, u0v, uNv, x\n",
    "N = 8\n",
    "k0 = 1.0\n",
    "k1 = 0.5\n",
    "u0v = 0.0\n",
    "uNv = 0.0\n",
    "lambda0 = 40.0\n",
    "\n",
    "def F(u):\n",
    "    global N, k0, k1, u0v, uNv, x\n",
    "    res = np.matrix( np.zeros((N, 1)), dtype = np.float64)\n",
    "    \n",
    "    i = 0\n",
    "    res[i] = (u[i+1] - u[i]) * (k0 + k1 * (u[i]**2 + u[i+1]**2)/2.0) - u[i]*(k0 + k1 * u[i]**2/2.0) + u[-1]*u[i]*(x[i]-x[i+1])**2\n",
    "    \n",
    "    for i in range(1, N-2):\n",
    "        res[i] = (u[i+1] - u[i]) * (k0 + k1 * (u[i]**2 + u[i+1]**2)/2) - (u[i] - u[i-1])*(k0 + k1 * (u[i]**2 + u[i-1]**2)/2) + u[-1]*u[i]*(x[i]-x[i+1])**2\n",
    "        \n",
    "    i = N-2\n",
    "    res[i] = (uNv - u[i]) * (k0 + k1 * u[i]**2) - (u[i] - u[i-1])*(k0 + k1 * (u[i]**2 + u[i-1]**2)/2) + u[-1]*u[i]*(x[i]-x[i+1])**2\n",
    "    \n",
    "    res[N-1] = u[N//2] - u[N//2-2] - 2* (x[1]-x[0])\n",
    "    \n",
    "    return res\n",
    "\n",
    "prev_answer = np.matrix(np.ones((N//2, 1)))\n",
    "lambdas = []\n",
    "\n",
    "for j in range(1,8):\n",
    "    print('Число отрезков:', N)\n",
    "    \n",
    "    u0 = np.matrix(np.zeros((N, 1)), dtype = np.float64)\n",
    "    x = np.linspace(0, 1, N+1)\n",
    "    \n",
    "    for i in range(N//2):\n",
    "        u0[2*i+1] = prev_answer[i]\n",
    "        \n",
    "    for i in range(2,N-2,2):\n",
    "        u0[i] = (u0[i-1] + u0[i+1])\n",
    "\n",
    "    u0[0] = (u0v + u0[1])/2\n",
    "    u0[-2] = (uNv + u0[-3])/2\n",
    "    \n",
    "    if j==1:\n",
    "        u0[-1] = lambda0\n",
    "    \n",
    "    prev_answer = NewtonSolver(F, u0)\n",
    "    lambdas.append(prev_answer[-1:])\n",
    "    N*=2"
   ]
  },
  {
   "cell_type": "code",
   "execution_count": 43,
   "metadata": {},
   "outputs": [],
   "source": [
    "lambdas = [t.item(0) for t in lambdas]"
   ]
  },
  {
   "cell_type": "code",
   "execution_count": 46,
   "metadata": {},
   "outputs": [
    {
     "data": {
      "text/plain": [
       "[<matplotlib.lines.Line2D at 0x26781b09240>]"
      ]
     },
     "execution_count": 46,
     "metadata": {},
     "output_type": "execute_result"
    },
    {
     "data": {
      "image/png": "[encoded data removed]",
      "text/plain": [
       "<Figure size 432x288 with 1 Axes>"
      ]
     },
     "metadata": {},
     "output_type": "display_data"
    }
   ],
   "source": [
    "import matplotlib.pyplot as plt\n",
    "plt.style.use('dark_background')\n",
    "plt.plot(lambdas)"
   ]
  },
  {
   "cell_type": "code",
   "execution_count": 47,
   "metadata": {},
   "outputs": [],
   "source": [
    "def eitken_thickening(U2,U1,U0,r):\n",
    "    return U2+(U2-U1)/((U1-U0)/(U2-U1)-1)"
   ]
  },
  {
   "cell_type": "code",
   "execution_count": 49,
   "metadata": {},
   "outputs": [
    {
     "data": {
      "text/plain": [
       "[39.60603754805091,\n",
       " 39.60269947353841,\n",
       " 39.602421998661626,\n",
       " 39.60239685328096,\n",
       " 39.60239434971636]"
      ]
     },
     "execution_count": 49,
     "metadata": {},
     "output_type": "execute_result"
    }
   ],
   "source": [
    "eitken_vals1 = [eitken_thickening(lambdas[i], lambdas[i-1], lambdas[i-2],1/2) for i in range(2,len(lambdas))]\n",
    "eitken_vals1"
   ]
  },
  {
   "cell_type": "code",
   "execution_count": 52,
   "metadata": {},
   "outputs": [
    {
     "data": {
      "text/plain": [
       "[39.60239684270645, 39.60239434746939, 39.602394072890704]"
      ]
     },
     "execution_count": 52,
     "metadata": {},
     "output_type": "execute_result"
    }
   ],
   "source": [
    "eitken_vals2 = [eitken_thickening(eitken_vals1[i], eitken_vals1[i-1], eitken_vals1[i-2],1/2) for i in range(2,len(eitken_vals1))]\n",
    "eitken_vals2"
   ]
  },
  {
   "cell_type": "code",
   "execution_count": 55,
   "metadata": {},
   "outputs": [
    {
     "data": {
      "text/plain": [
       "39.60239403893976"
      ]
     },
     "execution_count": 55,
     "metadata": {},
     "output_type": "execute_result"
    }
   ],
   "source": [
    "eitken_vals3 = [eitken_thickening(eitken_vals2[i], eitken_vals2[i-1], eitken_vals2[i-2],1/2) for i in range(2,len(eitken_vals2))]\n",
    "eitken_vals3[0]"
   ]
  },
  {
   "cell_type": "code",
   "execution_count": null,
   "metadata": {},
   "outputs": [],
   "source": []
  }
 ],
 "metadata": {
  "kernelspec": {
   "display_name": "Python 3",
   "language": "python",
   "name": "python3"
  },
  "language_info": {
   "codemirror_mode": {
    "name": "ipython",
    "version": 3
   },
   "file_extension": ".py",
   "mimetype": "text/x-python",
   "name": "python",
   "nbconvert_exporter": "python",
   "pygments_lexer": "ipython3",
   "version": "3.6.4"
  }
 },
 "nbformat": 4,
 "nbformat_minor": 2
}
