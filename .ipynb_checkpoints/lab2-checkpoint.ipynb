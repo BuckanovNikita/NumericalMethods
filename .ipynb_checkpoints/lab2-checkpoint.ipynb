{
 "cells": [
  {
   "cell_type": "code",
   "execution_count": 1,
   "metadata": {},
   "outputs": [],
   "source": [
    "%matplotlib inline\n",
    "import numpy as np\n",
    "from math import log\n",
    "import matplotlib.pyplot as plt\n",
    "plt.style.use('dark_background')\n",
    "plt.rcParams[\"figure.figsize\"] = (10, 10)"
   ]
  },
  {
   "cell_type": "code",
   "execution_count": 2,
   "metadata": {},
   "outputs": [],
   "source": [
    "A = np.matrix('0 0 0 0; 0.5 0 0 0; 0 0.5 0 0; 0 0 1 0')\n",
    "a = np.matrix('0; 0.5; 0.5; 1')\n",
    "v = 1/6\n",
    "b = np.matrix([[v], [2*v], [2*v], [v]])"
   ]
  },
  {
   "cell_type": "code",
   "execution_count": 3,
   "metadata": {},
   "outputs": [],
   "source": [
    "def f(u,t):\n",
    "    return u+t**2+1\n",
    "u0 = 0.5"
   ]
  },
  {
   "cell_type": "code",
   "execution_count": 4,
   "metadata": {},
   "outputs": [],
   "source": [
    "def simple_solver(f, u0, t):\n",
    "    u = np.array([u0]*len(t))\n",
    "    for i,ui in enumerate(u[:-1]):\n",
    "        tau = t[i+1] - t[i]\n",
    "        w1 = f(ui,t[i])\n",
    "        w2 = f(ui + tau*w1/2, t[i] + tau/2)\n",
    "        w3 = f(ui + tau*w2/2, t[i] + tau/2)\n",
    "        w4 = f(ui + tau*w3, t[i] + tau)\n",
    "        u[i+1] = ui + tau * (w1 + 2*w2 +2*w3 + w4)/6\n",
    "    return u,t\n",
    "def effective_p(U2,U1,U0,r):\n",
    "    return np.log((U2-U1)/(U1-U0))/np.log(r)"
   ]
  },
  {
   "cell_type": "code",
   "execution_count": 5,
   "metadata": {},
   "outputs": [],
   "source": [
    "answers = [ simple_solver(f, u0, np.linspace(0, 1, 2**i+1)) for i in range(8)]"
   ]
  },
  {
   "cell_type": "code",
   "execution_count": 6,
   "metadata": {},
   "outputs": [
    {
     "data": {
      "text/plain": [
       "[<matplotlib.lines.Line2D at 0x1ff5e9961d0>]"
      ]
     },
     "execution_count": 6,
     "metadata": {},
     "output_type": "execute_result"
    },
    {
     "data": {
      "image/png": "[encoded data removed]",
      "text/plain": [
       "<Figure size 432x288 with 1 Axes>"
      ]
     },
     "metadata": {},
     "output_type": "display_data"
    }
   ],
   "source": [
    "effective_p_in_1 = [effective_p(answers[i][0][-1], answers[i-1][0][-1], answers[i-2][0][-1], 1/2) for i in range(2, len(answers))]\n",
    "plt.plot(range(2,len(answers)), effective_p_in_1)"
   ]
  },
  {
   "cell_type": "code",
   "execution_count": 7,
   "metadata": {},
   "outputs": [
    {
     "data": {
      "text/plain": [
       "[<matplotlib.lines.Line2D at 0x1ff5ea29b00>]"
      ]
     },
     "execution_count": 7,
     "metadata": {},
     "output_type": "execute_result"
    },
    {
     "data": {
      "image/png": "[encoded data removed]",
      "text/plain": [
       "<Figure size 432x288 with 1 Axes>"
      ]
     },
     "metadata": {},
     "output_type": "display_data"
    }
   ],
   "source": [
    "from numpy import sin, cos, pi\n",
    "def f1(u, t):\n",
    "    om = [sin(t), cos(t), sin(t+pi/4)]\n",
    "    Omega = np.matrix([[0, -om[2], om[1]], [om[2], 0, -om[0]],[-om[1], om[0], 0]])\n",
    "    return Omega*u\n",
    "answers1 = [ simple_solver(f1, np.matrix('1; -0.5; 0.6'), np.linspace(0, 1, 2**i + 1)) for i in range(8) ]\n",
    "plt.figure()\n",
    "plt.plot(answers1[-1][1], [t.item(0,0)for t in answers1[-1][0]])\n",
    "plt.plot(answers1[-1][1], [t.item(1,0)for t in answers1[-1][0]])\n",
    "plt.plot(answers1[-1][1], [t.item(2,0)for t in answers1[-1][0]])"
   ]
  },
  {
   "cell_type": "markdown",
   "metadata": {},
   "source": [
    "Для реализации на компьютере в системе MATLAB удобнее записать в векторной форме"
   ]
  },
  {
   "cell_type": "markdown",
   "metadata": {},
   "source": [
    "$\t\\begin{split}\n",
    "\t\t\\mathbf{u}_{n+1} = \\mathbf{u}_n + \\tau_n \\boldsymbol{\\omega} \\mathbf{b}^T,\n",
    "\t\\qquad\n",
    "\t\t\\tau_n = t_{n+1} - t_n; \\\\\n",
    "\t\t\\boldsymbol{\\omega}_k = \\mathbf{f} \\left( \\mathbf{u}_n + \\tau_n \\boldsymbol{\\omega} \\boldsymbol{\\alpha}^T_k, t_n + \\tau_n a_k \\right),\n",
    "\t\\qquad\n",
    "\t\t1 \\le k \\le s,\n",
    "\t\\end{split}$"
   ]
  },
  {
   "cell_type": "markdown",
   "metadata": {},
   "source": [
    "где $\\boldsymbol{\\omega}_k$ - $k$-тая строка матрицы промежуточных результатов $\\boldsymbol{\\omega}$, первоначально полагаемой нулевой, $\\mathbf{b}$ - вектор-строка коэффициентов $b$ и $\\boldsymbol{\\alpha}_k$ - $k$-тая строка матрицы Бутчера. Верхний индекс $T$ означает транспонирование."
   ]
  },
  {
   "cell_type": "code",
   "execution_count": 8,
   "metadata": {},
   "outputs": [],
   "source": [
    "butcher = [ [0, 0, 0, 0, 0, 0, 0], [4/7, 0, 0, 0, 0, 0, 0], [115/112, -5/16, 0, 0, 0, 0, 0], [589/630, 5/18, -16/45, 0, 0, 0, 0],\n",
    "[229/1200-29/6000*5**0.5, 119/240-187/1200*5**0.5, -14/75+34/375*5**0.5, -3/100*5**0.5, 0, 0, 0],\n",
    "[71/2400-587/12000*5**0.5, 187/480-391/2400*5**0.5, -38/75+26/375*5**0.5, 27/80-3/400*5**0.5, (1+5**0.5)/4, 0, 0],\n",
    "[-49/480+43/160*5**0.5, -425/96+51/32*5**0.5, 52/15-4/5*5**0.5, -27/16+3/16*5**0.5, 5/4-3/4*5**0.5, 5/2-0.5*5**0.5, 0] ]\n",
    "a = [0, 4/7, 5/7, 6/7, (5-5**0.5)/10, (5+5**0.5)/10, 1];\n",
    "b = [1/12, 0, 0, 0, 5/12, 5/12, 1/12];\n",
    "u0 = [1, -0.5, 0.6]"
   ]
  },
  {
   "cell_type": "code",
   "execution_count": 25,
   "metadata": {},
   "outputs": [],
   "source": [
    "def mult(vect,l):\n",
    "    res = np.matrix(vect.shape)\n",
    "def universal_runge_kutta(f ,u0, t, butcher, a, b):\n",
    "    u = [u0] * len(t)\n",
    "    w = [np.matrix(np.zeros(u0.shape))] * len(butcher)\n",
    "    print(w[0])\n",
    "    for i,ui in enumerate(u):\n",
    "        tau = t[i+1] - t[i]\n",
    "        for j,wj in enumerate(w):\n",
    "            w[j] = f(ui + tau)"
   ]
  },
  {
   "cell_type": "code",
   "execution_count": 26,
   "metadata": {},
   "outputs": [
    {
     "data": {
      "text/plain": [
       "(3, 1)"
      ]
     },
     "execution_count": 26,
     "metadata": {},
     "output_type": "execute_result"
    }
   ],
   "source": [
    "np.matrix('1; -0.5; 0.6').shape"
   ]
  },
  {
   "cell_type": "code",
   "execution_count": 27,
   "metadata": {},
   "outputs": [
    {
     "name": "stdout",
     "output_type": "stream",
     "text": [
      "[[0.]\n",
      " [0.]\n",
      " [0.]]\n"
     ]
    },
    {
     "ename": "NameError",
     "evalue": "name 'tau' is not defined",
     "output_type": "error",
     "traceback": [
      "\u001b[1;31m---------------------------------------------------------------------------\u001b[0m",
      "\u001b[1;31mNameError\u001b[0m                                 Traceback (most recent call last)",
      "\u001b[1;32m<ipython-input-27-bb7078207003>\u001b[0m in \u001b[0;36m<module>\u001b[1;34m()\u001b[0m\n\u001b[1;32m----> 1\u001b[1;33m \u001b[0muniversal_runge_kutta\u001b[0m\u001b[1;33m(\u001b[0m\u001b[0mf1\u001b[0m\u001b[1;33m,\u001b[0m \u001b[0mnp\u001b[0m\u001b[1;33m.\u001b[0m\u001b[0mmatrix\u001b[0m\u001b[1;33m(\u001b[0m\u001b[1;34m'1; -0.5; 0.6'\u001b[0m\u001b[1;33m)\u001b[0m\u001b[1;33m,\u001b[0m \u001b[0mnp\u001b[0m\u001b[1;33m.\u001b[0m\u001b[0mlinspace\u001b[0m\u001b[1;33m(\u001b[0m\u001b[1;36m0\u001b[0m\u001b[1;33m,\u001b[0m\u001b[1;36m1\u001b[0m\u001b[1;33m,\u001b[0m\u001b[1;36m2\u001b[0m\u001b[1;33m)\u001b[0m\u001b[1;33m,\u001b[0m \u001b[0mbutcher\u001b[0m\u001b[1;33m,\u001b[0m \u001b[0ma\u001b[0m\u001b[1;33m,\u001b[0m \u001b[0mb\u001b[0m\u001b[1;33m)\u001b[0m\u001b[1;33m\u001b[0m\u001b[0m\n\u001b[0m",
      "\u001b[1;32m<ipython-input-25-9200a1de4d87>\u001b[0m in \u001b[0;36muniversal_runge_kutta\u001b[1;34m(f, u0, t, butcher, a, b)\u001b[0m\n\u001b[0;32m      7\u001b[0m     \u001b[1;32mfor\u001b[0m \u001b[0mi\u001b[0m\u001b[1;33m,\u001b[0m\u001b[0mui\u001b[0m \u001b[1;32min\u001b[0m \u001b[0menumerate\u001b[0m\u001b[1;33m(\u001b[0m\u001b[0mu\u001b[0m\u001b[1;33m)\u001b[0m\u001b[1;33m:\u001b[0m\u001b[1;33m\u001b[0m\u001b[0m\n\u001b[0;32m      8\u001b[0m         \u001b[1;32mfor\u001b[0m \u001b[0mj\u001b[0m\u001b[1;33m,\u001b[0m\u001b[0mwj\u001b[0m \u001b[1;32min\u001b[0m \u001b[0menumerate\u001b[0m\u001b[1;33m(\u001b[0m\u001b[0mw\u001b[0m\u001b[1;33m)\u001b[0m\u001b[1;33m:\u001b[0m\u001b[1;33m\u001b[0m\u001b[0m\n\u001b[1;32m----> 9\u001b[1;33m             \u001b[0mw\u001b[0m\u001b[1;33m[\u001b[0m\u001b[0mj\u001b[0m\u001b[1;33m]\u001b[0m \u001b[1;33m=\u001b[0m \u001b[0mf\u001b[0m\u001b[1;33m(\u001b[0m\u001b[0mui\u001b[0m \u001b[1;33m+\u001b[0m \u001b[0mtau\u001b[0m\u001b[1;33m)\u001b[0m\u001b[1;33m\u001b[0m\u001b[0m\n\u001b[0m",
      "\u001b[1;31mNameError\u001b[0m: name 'tau' is not defined"
     ]
    }
   ],
   "source": [
    "universal_runge_kutta(f1, np.matrix('1; -0.5; 0.6'), np.linspace(0,1,2), butcher, a, b)"
   ]
  },
  {
   "cell_type": "code",
   "execution_count": 10,
   "metadata": {},
   "outputs": [],
   "source": [
    "np.matrix([[t] for t in ])"
   ]
  },
  {
   "cell_type": "code",
   "execution_count": null,
   "metadata": {},
   "outputs": [],
   "source": []
  },
  {
   "cell_type": "code",
   "execution_count": null,
   "metadata": {},
   "outputs": [],
   "source": []
  },
  {
   "cell_type": "code",
   "execution_count": null,
   "metadata": {},
   "outputs": [],
   "source": []
  }
 ],
 "metadata": {
  "kernelspec": {
   "display_name": "Python 3",
   "language": "python",
   "name": "python3"
  },
  "language_info": {
   "codemirror_mode": {
    "name": "ipython",
    "version": 3
   },
   "file_extension": ".py",
   "mimetype": "text/x-python",
   "name": "python",
   "nbconvert_exporter": "python",
   "pygments_lexer": "ipython3",
   "version": "3.6.4"
  }
 },
 "nbformat": 4,
 "nbformat_minor": 2
}
