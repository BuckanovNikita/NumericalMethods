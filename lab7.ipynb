{
 "cells": [
  {
   "cell_type": "code",
   "execution_count": 1,
   "metadata": {},
   "outputs": [],
   "source": [
    "import numpy as np"
   ]
  },
  {
   "cell_type": "code",
   "execution_count": 2,
   "metadata": {},
   "outputs": [],
   "source": [
    "h = 0.1\n",
    "tau = 0.01\n",
    "x = np.arange(0, 100+h, h)\n",
    "t = np.arange(0, 1, tau)\n",
    "c = 50\n",
    "\n",
    "def mu2(x):\n",
    "    return [1/(1 + ((t-20)/10)**10) for t in x]\n",
    "def mu1(t,c):\n",
    "    return mu2(-1*c*t)[0]\n",
    "def f(t, x):\n",
    "    return 0"
   ]
  },
  {
   "cell_type": "code",
   "execution_count": 3,
   "metadata": {},
   "outputs": [
    {
     "data": {
      "text/plain": [
       "array([[9.75609756e-04, 1.02570754e-03, 1.07864713e-03, ...,\n",
       "        9.54929008e-10, 9.43044543e-10, 9.31322574e-10],\n",
       "       [9.75609756e-04, 0.00000000e+00, 0.00000000e+00, ...,\n",
       "        0.00000000e+00, 0.00000000e+00, 0.00000000e+00],\n",
       "       [9.75609756e-04, 0.00000000e+00, 0.00000000e+00, ...,\n",
       "        0.00000000e+00, 0.00000000e+00, 0.00000000e+00],\n",
       "       ...,\n",
       "       [9.75609756e-04, 0.00000000e+00, 0.00000000e+00, ...,\n",
       "        0.00000000e+00, 0.00000000e+00, 0.00000000e+00],\n",
       "       [9.75609756e-04, 0.00000000e+00, 0.00000000e+00, ...,\n",
       "        0.00000000e+00, 0.00000000e+00, 0.00000000e+00],\n",
       "       [9.75609756e-04, 0.00000000e+00, 0.00000000e+00, ...,\n",
       "        0.00000000e+00, 0.00000000e+00, 0.00000000e+00]])"
      ]
     },
     "execution_count": 3,
     "metadata": {},
     "output_type": "execute_result"
    }
   ],
   "source": [
    "u = np.zeros((len(t), len(x)))\n",
    "for i in range(len(t)):\n",
    "    u[i][0] = mu1(t,c)\n",
    "u[0] = mu2(x)\n",
    "u"
   ]
  },
  {
   "cell_type": "markdown",
   "metadata": {},
   "source": [
    "## Составная схема"
   ]
  },
  {
   "cell_type": "code",
   "execution_count": 4,
   "metadata": {},
   "outputs": [],
   "source": [
    "u = np.zeros((len(t), len(x)))\n",
    "for i in range(len(t)):\n",
    "    u[i][0] = mu1(t,c)\n",
    "u[0] = mu2(x)\n",
    "for i in range(1, len(t)):\n",
    "    for j in range(1, len(x)):\n",
    "        tau = t[i] - t[i-1]\n",
    "        h = x[j] - x[j-1]\n",
    "        k = c * tau / h \n",
    "        if k<=1:\n",
    "            u[i][j] = f(t[i] + tau/2, x[j] - h/2)*tau - c * (u[i-1][j] - u[i-1][j-1])*tau/h + u[i-1][j]\n",
    "        else:\n",
    "            u[i][j] = (f(t[i] + tau/2, x[j] - h/2)*h - (u[i][j-1] - u[i-1][j-1])*h/tau + c * u[i][j-1])/c\n",
    "u1 = u"
   ]
  },
  {
   "cell_type": "code",
   "execution_count": 5,
   "metadata": {},
   "outputs": [
    {
     "ename": "NameError",
     "evalue": "name 'plt' is not defined",
     "output_type": "error",
     "traceback": [
      "\u001b[1;31m---------------------------------------------------------------------------\u001b[0m",
      "\u001b[1;31mNameError\u001b[0m                                 Traceback (most recent call last)",
      "\u001b[1;32m<ipython-input-5-6f1cd1a59d95>\u001b[0m in \u001b[0;36m<module>\u001b[1;34m()\u001b[0m\n\u001b[0;32m      1\u001b[0m \u001b[0mget_ipython\u001b[0m\u001b[1;33m(\u001b[0m\u001b[1;33m)\u001b[0m\u001b[1;33m.\u001b[0m\u001b[0mrun_line_magic\u001b[0m\u001b[1;33m(\u001b[0m\u001b[1;34m'matplotlib'\u001b[0m\u001b[1;33m,\u001b[0m \u001b[1;34m'notebook'\u001b[0m\u001b[1;33m)\u001b[0m\u001b[1;33m\u001b[0m\u001b[0m\n\u001b[1;32m----> 2\u001b[1;33m \u001b[0mplt\u001b[0m\u001b[1;33m.\u001b[0m\u001b[0mfigure\u001b[0m\u001b[1;33m(\u001b[0m\u001b[1;33m)\u001b[0m\u001b[1;33m\u001b[0m\u001b[0m\n\u001b[0m\u001b[0;32m      3\u001b[0m \u001b[0mplt\u001b[0m\u001b[1;33m.\u001b[0m\u001b[0mgrid\u001b[0m\u001b[1;33m(\u001b[0m\u001b[1;33m)\u001b[0m\u001b[1;33m\u001b[0m\u001b[0m\n\u001b[0;32m      4\u001b[0m \u001b[0mplt\u001b[0m\u001b[1;33m.\u001b[0m\u001b[0mplot\u001b[0m\u001b[1;33m(\u001b[0m\u001b[0mx\u001b[0m\u001b[1;33m,\u001b[0m \u001b[0mu1\u001b[0m\u001b[1;33m[\u001b[0m\u001b[1;36m99\u001b[0m\u001b[1;33m]\u001b[0m\u001b[1;33m)\u001b[0m\u001b[1;33m\u001b[0m\u001b[0m\n",
      "\u001b[1;31mNameError\u001b[0m: name 'plt' is not defined"
     ]
    }
   ],
   "source": [
    "%matplotlib notebook\n",
    "plt.figure()\n",
    "plt.grid()\n",
    "plt.plot(x, u1[99])"
   ]
  },
  {
   "cell_type": "markdown",
   "metadata": {},
   "source": [
    "## Неявная схема"
   ]
  },
  {
   "cell_type": "code",
   "execution_count": null,
   "metadata": {},
   "outputs": [],
   "source": [
    "u = np.zeros((len(t), len(x)))\n",
    "for i in range(len(t)):\n",
    "    u[i][0] = mu1(t,c)\n",
    "u[0] = mu2(x)\n",
    "for i in range(1, len(t)):\n",
    "    for j in range(1, len(x)):\n",
    "        tau = t[i] - t[i-1]\n",
    "        h = x[j] - x[j-1]\n",
    "        u[i][j] = (f(t[i]+tau/2, x[j]-h/2)*tau*h + h*u[i-1][j] + c*tau*u[i][j-1]) / (h+c*tau)\n",
    "u2 = u"
   ]
  },
  {
   "cell_type": "code",
   "execution_count": null,
   "metadata": {},
   "outputs": [],
   "source": [
    "plt.figure()\n",
    "plt.grid()\n",
    "plt.plot(x, u2[99])"
   ]
  },
  {
   "cell_type": "markdown",
   "metadata": {},
   "source": [
    "## Схема с полусуммой"
   ]
  },
  {
   "cell_type": "code",
   "execution_count": null,
   "metadata": {},
   "outputs": [],
   "source": [
    "u = np.zeros((len(t), len(x)))\n",
    "for i in range(len(t)):\n",
    "    u[i][0] = mu1(t,c)\n",
    "u[0] = mu2(x)\n",
    "for i in range(1, len(t)):\n",
    "    for j in range(1, len(x)):\n",
    "        tau = t[i] - t[i-1]\n",
    "        h = x[j] - x[j-1]\n",
    "        u[i][j] = (2*f(t[i]+tau/2, x[j]-h/2)*tau*h - h*(u[i][j-1] - u[i-1][j] - u[i-1][j-1] ) -tau*c*(u[i-1][j] - u[i][j-1] - u[i-1][j-1])) / (h+c*tau)\n",
    "u3 = u\n",
    "plt.figure()\n",
    "plt.grid()\n",
    "plt.plot(x, u3[99])"
   ]
  },
  {
   "cell_type": "code",
   "execution_count": null,
   "metadata": {},
   "outputs": [],
   "source": [
    "i = 90\n",
    "plt.figure()\n",
    "plt.grid()\n",
    "plt.plot(x, u1[i])\n",
    "plt.plot(x, u2[i])\n",
    "plt.plot(x, u3[i])\n",
    "plt.plot(x, mu2(x - t[i]*c))"
   ]
  },
  {
   "cell_type": "code",
   "execution_count": null,
   "metadata": {},
   "outputs": [],
   "source": []
  },
  {
   "cell_type": "code",
   "execution_count": null,
   "metadata": {},
   "outputs": [],
   "source": []
  }
 ],
 "metadata": {
  "kernelspec": {
   "display_name": "Python 3",
   "language": "python",
   "name": "python3"
  },
  "language_info": {
   "codemirror_mode": {
    "name": "ipython",
    "version": 3
   },
   "file_extension": ".py",
   "mimetype": "text/x-python",
   "name": "python",
   "nbconvert_exporter": "python",
   "pygments_lexer": "ipython3",
   "version": "3.6.4"
  }
 },
 "nbformat": 4,
 "nbformat_minor": 2
}
