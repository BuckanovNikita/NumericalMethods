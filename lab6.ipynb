{
 "cells": [
  {
   "cell_type": "code",
   "execution_count": 45,
   "metadata": {},
   "outputs": [
    {
     "name": "stdout",
     "output_type": "stream",
     "text": [
      "N: 8\n",
      "Iteration: 0\n",
      "-2   1   0   0   0   0   0  0  0  \n",
      " 1  -2   1   0   0   0   0  0  0  \n",
      " 0   1  -2   1   0   0   0  0  0  \n",
      " 0   0   1  -2   1   0   0  0  0  \n",
      " 0   0   0   1  -2   1   0  0  0  \n",
      " 0   0   0   0   1  -2   1  0  0  \n",
      " 0   0   0   0   0   1  -2  0  0  \n",
      " 0   0   0   0   0   0   0  1  0  \n",
      " 0   0  -1   0   1   0   0  0  0  \n"
     ]
    },
    {
     "ename": "LinAlgError",
     "evalue": "Singular matrix",
     "output_type": "error",
     "traceback": [
      "\u001b[1;31m---------------------------------------------------------------------------\u001b[0m",
      "\u001b[1;31mLinAlgError\u001b[0m                               Traceback (most recent call last)",
      "\u001b[1;32m<timed exec>\u001b[0m in \u001b[0;36m<module>\u001b[1;34m()\u001b[0m\n",
      "\u001b[1;32m<timed exec>\u001b[0m in \u001b[0;36mNewtonSolver\u001b[1;34m(f, u0, eps, h)\u001b[0m\n",
      "\u001b[1;32mD:\\Programs\\Anaconda3\\lib\\site-packages\\numpy\\linalg\\linalg.py\u001b[0m in \u001b[0;36msolve\u001b[1;34m(a, b)\u001b[0m\n\u001b[0;32m    388\u001b[0m     \u001b[0msignature\u001b[0m \u001b[1;33m=\u001b[0m \u001b[1;34m'DD->D'\u001b[0m \u001b[1;32mif\u001b[0m \u001b[0misComplexType\u001b[0m\u001b[1;33m(\u001b[0m\u001b[0mt\u001b[0m\u001b[1;33m)\u001b[0m \u001b[1;32melse\u001b[0m \u001b[1;34m'dd->d'\u001b[0m\u001b[1;33m\u001b[0m\u001b[0m\n\u001b[0;32m    389\u001b[0m     \u001b[0mextobj\u001b[0m \u001b[1;33m=\u001b[0m \u001b[0mget_linalg_error_extobj\u001b[0m\u001b[1;33m(\u001b[0m\u001b[0m_raise_linalgerror_singular\u001b[0m\u001b[1;33m)\u001b[0m\u001b[1;33m\u001b[0m\u001b[0m\n\u001b[1;32m--> 390\u001b[1;33m     \u001b[0mr\u001b[0m \u001b[1;33m=\u001b[0m \u001b[0mgufunc\u001b[0m\u001b[1;33m(\u001b[0m\u001b[0ma\u001b[0m\u001b[1;33m,\u001b[0m \u001b[0mb\u001b[0m\u001b[1;33m,\u001b[0m \u001b[0msignature\u001b[0m\u001b[1;33m=\u001b[0m\u001b[0msignature\u001b[0m\u001b[1;33m,\u001b[0m \u001b[0mextobj\u001b[0m\u001b[1;33m=\u001b[0m\u001b[0mextobj\u001b[0m\u001b[1;33m)\u001b[0m\u001b[1;33m\u001b[0m\u001b[0m\n\u001b[0m\u001b[0;32m    391\u001b[0m \u001b[1;33m\u001b[0m\u001b[0m\n\u001b[0;32m    392\u001b[0m     \u001b[1;32mreturn\u001b[0m \u001b[0mwrap\u001b[0m\u001b[1;33m(\u001b[0m\u001b[0mr\u001b[0m\u001b[1;33m.\u001b[0m\u001b[0mastype\u001b[0m\u001b[1;33m(\u001b[0m\u001b[0mresult_t\u001b[0m\u001b[1;33m,\u001b[0m \u001b[0mcopy\u001b[0m\u001b[1;33m=\u001b[0m\u001b[1;32mFalse\u001b[0m\u001b[1;33m)\u001b[0m\u001b[1;33m)\u001b[0m\u001b[1;33m\u001b[0m\u001b[0m\n",
      "\u001b[1;32mD:\\Programs\\Anaconda3\\lib\\site-packages\\numpy\\linalg\\linalg.py\u001b[0m in \u001b[0;36m_raise_linalgerror_singular\u001b[1;34m(err, flag)\u001b[0m\n\u001b[0;32m     87\u001b[0m \u001b[1;33m\u001b[0m\u001b[0m\n\u001b[0;32m     88\u001b[0m \u001b[1;32mdef\u001b[0m \u001b[0m_raise_linalgerror_singular\u001b[0m\u001b[1;33m(\u001b[0m\u001b[0merr\u001b[0m\u001b[1;33m,\u001b[0m \u001b[0mflag\u001b[0m\u001b[1;33m)\u001b[0m\u001b[1;33m:\u001b[0m\u001b[1;33m\u001b[0m\u001b[0m\n\u001b[1;32m---> 89\u001b[1;33m     \u001b[1;32mraise\u001b[0m \u001b[0mLinAlgError\u001b[0m\u001b[1;33m(\u001b[0m\u001b[1;34m\"Singular matrix\"\u001b[0m\u001b[1;33m)\u001b[0m\u001b[1;33m\u001b[0m\u001b[0m\n\u001b[0m\u001b[0;32m     90\u001b[0m \u001b[1;33m\u001b[0m\u001b[0m\n\u001b[0;32m     91\u001b[0m \u001b[1;32mdef\u001b[0m \u001b[0m_raise_linalgerror_nonposdef\u001b[0m\u001b[1;33m(\u001b[0m\u001b[0merr\u001b[0m\u001b[1;33m,\u001b[0m \u001b[0mflag\u001b[0m\u001b[1;33m)\u001b[0m\u001b[1;33m:\u001b[0m\u001b[1;33m\u001b[0m\u001b[0m\n",
      "\u001b[1;31mLinAlgError\u001b[0m: Singular matrix"
     ]
    }
   ],
   "source": [
    "%%time\n",
    "import numpy as np\n",
    "from numpy import exp\n",
    "\n",
    "def matprint(mat, fmt=\"g\"):\n",
    "    col_maxes = [max([len((\"{:\"+fmt+\"}\").format(x)) for x in col]) for col in mat.T]\n",
    "    for x in mat:\n",
    "        for i, y in enumerate(x):\n",
    "            print((\"{:\"+str(col_maxes[i])+fmt+\"}\").format(y), end=\"  \")\n",
    "        print(\"\")\n",
    "\n",
    "def mult(a, b):\n",
    "    res = np.matrix(np.zeros(a.shape), dtype = np.float64)\n",
    "    for i in range(a.shape[0]):\n",
    "        res[i] = a[i]*b[i]\n",
    "    return res\n",
    "\n",
    "def NewtonSolver(f, u0, eps=10**-12, h = 10**-5):\n",
    "    global N, x\n",
    "    u = u0\n",
    "    dx = np.matrix(np.ones(u0.shape), dtype = np.float64)\n",
    "    i = 0\n",
    "    fu = np.zeros( (u0.shape[0], u0.shape[0]), dtype = np.float64)\n",
    "    while (sum(mult(dx,dx)).item(0))**1/2 > eps :\n",
    "        print(\"Iteration:\", i)\n",
    "        i+=1\n",
    "        du = np.matrix(np.zeros(u0.shape), dtype = np.float64)\n",
    "        for j in range( u0.shape[0] ):\n",
    "            du[j-1] = 0\n",
    "            du[j] = h\n",
    "            #print('du',du)\n",
    "            val = ( f(u+du) - f(u-du) )/(2.0*h)\n",
    "            #print('diff',f(u+du) - f(u-du))\n",
    "            #print('')\n",
    "            for k in range( u0.shape[0] ):\n",
    "                fu[j][k]= val[k]\n",
    "        fu = fu.T\n",
    "        matprint(fu)\n",
    "        dx = -1 * np.linalg.inv(fu) * f(u)\n",
    "        u = u + dx\n",
    "        print('norm:',(sum(mult(dx,dx)).item(0))**1/2)\n",
    "    return u\n",
    "\n",
    "global N, k0, k1, u0v, uNv, x\n",
    "N = 8\n",
    "k0 = 1.0\n",
    "k1 = 0.5\n",
    "u0v = 0.0\n",
    "uNv = 0.0\n",
    "lambda0 = 40.0\n",
    "\n",
    "def F(u):\n",
    "    global N, k0, k1, u0v, uNv, x\n",
    "    res = np.matrix( np.zeros((N+1, 1)), dtype = np.float64)\n",
    "    res[N-1] = u[N-1]\n",
    "    i = 0\n",
    "    res[i] = (u[i+1] - u[i]) * (k0 + k1 * (u[i]**2 + u[i+1]**2)/2.0) - u[i]*(k0 + k1 * u[i]**2/2.0) + res[N-1]*u[i]*(x[i]-x[i+1])**2\n",
    "    for i in range(1, N-2):\n",
    "        res[i] = (u[i+1] - u[i]) * (k0 + k1 * (u[i]**2 + u[i+1]**2)/2) - (u[i] - u[i-1])*(k0 + k1 * (u[i]**2 + u[i-1]**2)/2) + res[N-1]*u[i]*(x[i]-x[i+1])**2\n",
    "    i = N-2\n",
    "    res[i] = (uNv - u[i]) * (k0 + k1 * u[i]**2) - (u[i] - u[i-1])*(k0 + k1 * (u[i]**2 + u[i-1]**2)/2) + res[N-1]*u[i]*(x[i]-x[i+1])**2\n",
    "    res[N] = u[N//2] - u[N//2-2] + 2* (x[1]-x[0])\n",
    "    return res\n",
    "\n",
    "prev_answer = np.matrix(np.zeros((N//2, 1)))\n",
    "for j in range(1,2):\n",
    "    print('N:', N)\n",
    "    u0 = np.matrix(np.zeros((N+1, 1)), dtype = np.float64)\n",
    "    x = np.linspace(0, 1, N+1)\n",
    "    #for i in range( (N//2+2)//2 - 2):\n",
    "    #    u0[2*i+1] = prev_answer[i]\n",
    "    #if not j==1:\n",
    "    #    i = (N//2+2)//2 - 3\n",
    "    #    u0[2*i+1] = u0[2*i+1-2] + 4*(x[2*i+1+1]-x[2*i+1])\n",
    "    #for i in range((N//2+2)//2 - 2, N//2-2):\n",
    "    #     u0[2*i+1] = prev_answer[i]\n",
    "    #for i in range(2,N-3,2):\n",
    "    #    u0[i] = (u0[i-1] + u0[i+1])/2\n",
    "    #u0[0] = (u0v + u0[1])/2\n",
    "    #u0[-2] = (uNv + u0[-3])/2\n",
    "    if j==1:\n",
    "        u0[-1] = lambda0\n",
    "    #print(u0)\n",
    "    prev_answer = NewtonSolver(F, u0)\n",
    "    print('lambda:', prev_answer[-10:])\n",
    "    N*=2"
   ]
  },
  {
   "cell_type": "code",
   "execution_count": 3,
   "metadata": {},
   "outputs": [
    {
     "data": {
      "text/plain": [
       "1600.0"
      ]
     },
     "execution_count": 3,
     "metadata": {},
     "output_type": "execute_result"
    }
   ],
   "source": [
    "sum(mult(u0,u0)).item(0)"
   ]
  },
  {
   "cell_type": "code",
   "execution_count": 41,
   "metadata": {},
   "outputs": [],
   "source": [
    "c = [t for t in range(10)]"
   ]
  },
  {
   "cell_type": "code",
   "execution_count": 44,
   "metadata": {},
   "outputs": [
    {
     "data": {
      "text/plain": [
       "[1, 5, 6, 7, 8, 9]"
      ]
     },
     "execution_count": 44,
     "metadata": {},
     "output_type": "execute_result"
    }
   ],
   "source": []
  },
  {
   "cell_type": "code",
   "execution_count": null,
   "metadata": {},
   "outputs": [],
   "source": []
  }
 ],
 "metadata": {
  "kernelspec": {
   "display_name": "Python 3",
   "language": "python",
   "name": "python3"
  },
  "language_info": {
   "codemirror_mode": {
    "name": "ipython",
    "version": 3
   },
   "file_extension": ".py",
   "mimetype": "text/x-python",
   "name": "python",
   "nbconvert_exporter": "python",
   "pygments_lexer": "ipython3",
   "version": "3.6.4"
  }
 },
 "nbformat": 4,
 "nbformat_minor": 2
}
