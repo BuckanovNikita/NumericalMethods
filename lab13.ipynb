{
 "cells": [
  {
   "cell_type": "code",
   "execution_count": 373,
   "metadata": {},
   "outputs": [],
   "source": [
    "import numpy as np\n",
    "from numpy import pi"
   ]
  },
  {
   "cell_type": "code",
   "execution_count": 383,
   "metadata": {},
   "outputs": [],
   "source": [
    "global g, d, m, i, v15, P0, T0, w, zt, cd, m3, S, Tv, Tz, v0\n",
    "g = 9.80665 #ускорение свободного падения\n",
    "d = 12.7 * 10**-3 #диаметр пули\n",
    "m = 48.3 * 10**-3 #масса пули\n",
    "i = 1.0628 #коэффиециен формы\n",
    "v15 = 820.0 #начальная скорость пули T = 15 c\n",
    "P0 = 750 #начальное давление\n",
    "T0 = 15 #начальная температура\n",
    "w = 0.5 #влажность воздуха\n",
    "zt = 1.35 * 10**-3 #коэффиециент температуры заряда\n",
    "cd = 0.0423 #коэффиециент деривации\n",
    "m3 = 0.1744 #коэффиециент убывания угловой скорости\n",
    "S = pi*d*d/4\n",
    "Tv = (T0 + 273.15)/(1 - 3*12.7/(8.0*P0) * w)\n",
    "\n",
    "def T(y):\n",
    "    global Tv\n",
    "    return Tv - 0.0065*y\n",
    "\n",
    "def p(y):\n",
    "    global Tv,P0\n",
    "    return 1.225 * np.power(T(y)/Tv, 4.256) * P0*288.15/(Tv*760.0)\n",
    "\n",
    "def s_speed(y):\n",
    "    print('T(y): ',T(y))\n",
    "    return 340.924 * (T(y)/288.15)**(1/2.0)\n",
    "\n",
    "def cx(x):\n",
    "    pa = np.array([0.0525, -0.9476, 8.9342, -9.4610, 0.3207, 4.2980, -1.9382])\n",
    "    pb = np.array([1.0000, -15.4071, 178.6690, -580.8643, 985.5873, -853.9492, 296.9213])\n",
    "    pc = np.array([0.0531, 0.9449, 90.5063, 0.1639])\n",
    "    return np.polyval(pa,x**2)/np.polyval(pb,x**2) + pc[0] / (1+np.exp(-(x-pc[1])*pc[2]))+pc[3]\n",
    "\n",
    "Tz = T0\n",
    "v0 = v15*(1+zt*(Tz-15))\n",
    "\n",
    "def Fs(i,S,p,v,a):\n",
    "    return i*S*p*v*v/2*cx(v/a)"
   ]
  },
  {
   "cell_type": "code",
   "execution_count": 384,
   "metadata": {},
   "outputs": [
    {
     "name": "stdout",
     "output_type": "stream",
     "text": [
      "T(y):  289.0677902339929\n"
     ]
    },
    {
     "data": {
      "text/plain": [
       "341.46650904200186"
      ]
     },
     "execution_count": 384,
     "metadata": {},
     "output_type": "execute_result"
    }
   ],
   "source": [
    "s_speed(0)"
   ]
  },
  {
   "cell_type": "code",
   "execution_count": 357,
   "metadata": {},
   "outputs": [],
   "source": [
    "butcher = [np.array([0, 0, 0, 0, 0, 0, 0], dtype=np.longdouble), \n",
    "           np.array([4/7, 0, 0, 0, 0, 0, 0], dtype=np.longdouble), \n",
    "           np.array([115/112, -5/16, 0, 0, 0, 0, 0], dtype=np.longdouble), \n",
    "           np.array([589/630, 5/18, -16/45, 0, 0, 0, 0], dtype=np.longdouble),\n",
    "           np.array([229/1200-29/6000*5**0.5, 119/240-187/1200*5**0.5, -14/75+34/375*5**0.5, -3/100*5**0.5, 0, 0, 0], dtype=np.longdouble),\n",
    "           np.array([71/2400-587/12000*5**0.5, 187/480-391/2400*5**0.5, -38/75+26/375*5**0.5, 27/80-3/400*5**0.5, (1+5**0.5)/4, 0, 0], dtype=np.longdouble),\n",
    "           np.array([-49/480+43/160*5**0.5, -425/96+51/32*5**0.5, 52/15-4/5*5**0.5, -27/16+3/16*5**0.5, 5/4-3/4*5**0.5, 5/2-0.5*5**0.5, 0], dtype=np.longdouble) \n",
    "          ]\n",
    "a = np.array([0, 4/7, 5/7, 6/7, (5-5**0.5)/10, (5+5**0.5)/10, 1],dtype=np.longdouble)\n",
    "b = np.array([1/12, 0, 0, 0, 5/12, 5/12, 1/12], dtype=np.longdouble)"
   ]
  },
  {
   "cell_type": "code",
   "execution_count": 358,
   "metadata": {},
   "outputs": [],
   "source": [
    "def mult(vect,list_):\n",
    "    res = np.matrix(np.zeros(vect[0].shape))\n",
    "    for v,l in zip(vect,list_):\n",
    "        res+= v*l\n",
    "    return res\n",
    "def universal_runge_kutta(f ,u0, t, butcher, a, b):\n",
    "    u = np.array([u0] * len(t))\n",
    "    w = [np.matrix(np.zeros(u0.shape))] * len(butcher)\n",
    "    for i,ui in enumerate(u[:-1]):\n",
    "        tau = t[i+1] - t[i]\n",
    "        for j,wj in enumerate(w):\n",
    "            w[j] = f(u[i] + tau * mult(w, butcher[j]), t[i] + tau * a[j])\n",
    "        u[i+1] = u[i] + tau * mult(w,b)\n",
    "    return u, t\n",
    "def f(ui, x):\n",
    "    global m, g, i, S\n",
    "    u = ui[0].item(0)\n",
    "    gamma = ui[1].item(0)\n",
    "    y = ui[2].item(0)\n",
    "    t = ui[3].item(0)\n",
    "    v = u * np.sqrt(1+gamma**2)\n",
    "    return np.matrix([\n",
    "    [-Fs(i, S, p(y), v, s_speed(y)) / (m*v)],\n",
    "    [-g/u**2],\n",
    "    [gamma],\n",
    "    [1/u]\n",
    "    ])"
   ]
  },
  {
   "cell_type": "code",
   "execution_count": 361,
   "metadata": {},
   "outputs": [
    {
     "data": {
      "text/plain": [
       "([array([[8.19481197e+02],\n",
       "         [3.55509656e-02],\n",
       "         [0.00000000e+00],\n",
       "         [0.00000000e+00]]), matrix([[7.66858664e+02],\n",
       "          [3.34764160e-02],\n",
       "          [4.60999743e+00],\n",
       "          [1.68030931e-01]]), matrix([[7.16272839e+02],\n",
       "          [3.11034492e-02],\n",
       "          [8.92491050e+00],\n",
       "          [3.47746103e-01]]), matrix([[6.67619417e+02],\n",
       "          [2.83784217e-02],\n",
       "          [1.29016892e+01],\n",
       "          [5.40337829e-01]]), matrix([[6.20799859e+02],\n",
       "          [2.52352082e-02],\n",
       "          [1.64893880e+01],\n",
       "          [7.47187336e-01]]), matrix([[5.75739202e+02],\n",
       "          [2.15915277e-02],\n",
       "          [1.96272792e+01],\n",
       "          [9.69905393e-01]]), matrix([[5.32424433e+02],\n",
       "          [1.73443472e-02],\n",
       "          [2.22424043e+01],\n",
       "          [1.21037255e+00]]), matrix([[4.90961708e+02],\n",
       "          [1.23648481e-02],\n",
       "          [2.42464498e+01],\n",
       "          [1.47075987e+00]]), matrix([[4.51616695e+02],\n",
       "          [6.49443386e-03],\n",
       "          [2.55319736e+01],\n",
       "          [1.75349647e+00]]), matrix([[ 4.14749049e+02],\n",
       "          [-4.56267181e-04],\n",
       "          [ 2.59683121e+01],\n",
       "          [ 2.06116142e+00]]), matrix([[ 3.80667202e+02],\n",
       "          [-8.70576335e-03],\n",
       "          [ 2.53975826e+01],\n",
       "          [ 2.39634765e+00]]), matrix([[ 3.50170846e+02],\n",
       "          [-1.84912562e-02],\n",
       "          [ 2.36300244e+01],\n",
       "          [ 2.76140172e+00]]), matrix([[ 3.26499197e+02],\n",
       "          [-2.99569094e-02],\n",
       "          [ 2.04427833e+01],\n",
       "          [ 3.15648982e+00]]), matrix([[ 3.11405511e+02],\n",
       "          [-4.28962075e-02],\n",
       "          [ 1.56166120e+01],\n",
       "          [ 3.57607438e+00]]), matrix([[ 2.99494632e+02],\n",
       "          [-5.69452251e-02],\n",
       "          [ 8.99158833e+00],\n",
       "          [ 4.01321745e+00]]), matrix([[ 2.88528676e+02],\n",
       "          [-7.20825968e-02],\n",
       "          [ 4.23571703e-01],\n",
       "          [ 4.46696196e+00]])],\n",
       " array([   0.        ,  133.33333333,  266.66666667,  400.        ,\n",
       "         533.33333333,  666.66666667,  800.        ,  933.33333333,\n",
       "        1066.66666667, 1200.        , 1333.33333333, 1466.66666667,\n",
       "        1600.        , 1733.33333333, 1866.66666667, 2000.        ]))"
      ]
     },
     "execution_count": 361,
     "metadata": {},
     "output_type": "execute_result"
    }
   ],
   "source": [
    "def universal_rosenbrok(f, u0, alpha, t):\n",
    "    h = 10**-5\n",
    "    du = np.matrix(np.zeros(u0.shape),dtype = np.float64)\n",
    "    u =  [u0] * len(t)\n",
    "    fu = np.zeros((u0.shape[0], u0.shape[0]),dtype = np.float64)\n",
    "    for i, ui in enumerate(u[ : -1]):\n",
    "        tau = t[i+1] - t[i]\n",
    "        for j in range(u0.shape[0]):\n",
    "            for k in range(u0.shape[0]):\n",
    "                du = np.matrix( np.zeros(u0.shape),dtype = np.float64)\n",
    "                du[j] = h\n",
    "                val = (f(u[i]+du,t[i]) - f(u[i]-du,t[i]))/(2*h)\n",
    "                fu[j][k] = val[k]\n",
    "        w = np.linalg.solve( (np.eye(fu.shape[0]) - alpha * tau * fu.T), f(u[i],t[i] + tau/2))\n",
    "        u[i+1] = u[i] + tau*np.real(w)\n",
    "    return u, t\n",
    "theta = 33.93438*0.06 *pi/180\n",
    "u0 = np.array([          \n",
    "    [v0*np.cos(theta)], #u\n",
    "    [np.tan(theta)],   #gamma\n",
    "    [0.0],                 #y\n",
    "    [0.0]                  #t\n",
    "    ])\n",
    "ans = universal_rosenbrok(f, u0, (1.0+1j)/2.0, np.linspace(0,2000,16))\n",
    "ans"
   ]
  },
  {
   "cell_type": "code",
   "execution_count": 362,
   "metadata": {},
   "outputs": [
    {
     "name": "stdout",
     "output_type": "stream",
     "text": [
      "T0 = 15\n",
      "\n",
      "iteration 0\n",
      "iteration 1\n",
      "iteration 2\n",
      "iteration 3\n",
      "iteration 4\n",
      "iteration 5\n",
      "iteration 6\n",
      "iteration 7\n",
      "iteration 8\n",
      "iteration 9\n",
      "iteration 10\n",
      "iteration 11\n",
      "iteration 12\n",
      "iteration 13\n",
      "iteration 14\n",
      "iteration 15\n",
      "iteration 16\n",
      "iteration 17\n",
      "iteration 18\n",
      "iteration 19\n",
      "iteration 20\n",
      "iteration 21\n",
      "iteration 22\n"
     ]
    },
    {
     "data": {
      "text/plain": [
       "33.732175568401644"
      ]
     },
     "execution_count": 362,
     "metadata": {},
     "output_type": "execute_result"
    }
   ],
   "source": [
    "print('T0 = 15\\n')\n",
    "theta0 = 0.0\n",
    "theta1 = 0.1\n",
    "eps = 10**-15\n",
    "n = 0 \n",
    "while True:\n",
    "    print(\"iteration\",n)\n",
    "    theta = (theta0+theta1)/2\n",
    "    u0 = np.array([          \n",
    "        [v0*np.cos(theta)], #u\n",
    "        [np.tan(theta)],   #gamma\n",
    "        [0.0],                 #y\n",
    "        [0.0]                  #t\n",
    "        ])\n",
    "    #ans = universal_runge_kutta(f, u0, np.linspace(0,2000,16), butcher, a, b)[0][-1][2].item(0) \n",
    "    ans = universal_rosenbrok(f, u0, (1.0+1j)/2.0, np.linspace(0,2000,16))[0][-1][2].item(0) \n",
    "    if abs(ans) < 10**-5:\n",
    "        break\n",
    "    if ans > 0:\n",
    "        theta1 = theta\n",
    "    else:\n",
    "        theta0 = theta\n",
    "    n+=1\n",
    "theta*180/pi/0.06"
   ]
  },
  {
   "cell_type": "code",
   "execution_count": 344,
   "metadata": {},
   "outputs": [
    {
     "name": "stdout",
     "output_type": "stream",
     "text": [
      "T0 = 15\n",
      "\n",
      "iteration 0\n",
      "0.019999999999999997\n",
      "iteration 1\n",
      "0.005545358508415789\n",
      "iteration 2\n",
      "4.0793524062540665e-06\n",
      "iteration 3\n",
      "4.583330451279899e-10\n"
     ]
    },
    {
     "data": {
      "text/plain": [
       "33.94721299580389"
      ]
     },
     "execution_count": 344,
     "metadata": {},
     "output_type": "execute_result"
    }
   ],
   "source": [
    "print('T0 = 15\\n')\n",
    "theta0 = 0.01\n",
    "theta1 = 0.03\n",
    "eps = 10**-15\n",
    "n = 0 \n",
    "while abs(theta1 - theta0) > eps:\n",
    "    print(\"iteration\",n)\n",
    "    #print(abs(theta1 - theta0))\n",
    "    u0 = np.array([          \n",
    "        [v0*np.cos(theta1)], #u\n",
    "        [np.tan(theta1)],   #gamma\n",
    "        [0.0],                 #y\n",
    "        [0.0]                  #t\n",
    "        ])\n",
    "    ans1 = universal_runge_kutta(f, u0, np.linspace(0,2000,16), butcher, a, b)\n",
    "    \n",
    "    u0 = np.array([          \n",
    "        [v0*np.cos(theta0)],   #u\n",
    "        [np.tan(theta0)],      #gamma\n",
    "        [0.0],                 #y\n",
    "        [0.0]                  #t\n",
    "        ])\n",
    "    ans0 = universal_runge_kutta(f, u0, np.linspace(0,2000,16), butcher, a, b)\n",
    "    new_theta = theta1 - (theta1 - theta0) * ans1[0][-1][2].item(0) / (ans1[0][-1][2].item(0) - ans0[0][-1][2].item(0))\n",
    "    theta0 = theta1\n",
    "    theta1 = new_theta\n",
    "    n+=1\n",
    "theta1*180/pi/0.06"
   ]
  },
  {
   "cell_type": "code",
   "execution_count": 350,
   "metadata": {},
   "outputs": [
    {
     "name": "stdout",
     "output_type": "stream",
     "text": [
      "T0 = 5\n",
      "\n",
      "iteration 0\n",
      "0.09000000000000001\n",
      "iteration 1\n",
      "0.062124408751425504\n",
      "iteration 2\n",
      "1.4863737999346038e-05\n",
      "iteration 3\n",
      "6.443842195946736e-10\n"
     ]
    },
    {
     "data": {
      "text/plain": [
       "36.154330978838686"
      ]
     },
     "execution_count": 350,
     "metadata": {},
     "output_type": "execute_result"
    }
   ],
   "source": [
    "global g, d, m, i, v15, P0, T0, w, zt, cd, m3, S, Tv, Tz, v0\n",
    "g = 9.80665 #ускорение свободного падения\n",
    "d = 12.7 * 10**-3 #диаметр пули\n",
    "m = 48.3 * 10**-3 #масса пули\n",
    "i = 1.0628 #коэффиециен формы\n",
    "v15 = 820.0 #начальная скорость пули T = 15 c\n",
    "P0 = 750 #начальное давление\n",
    "T0 = 5 #начальная температура\n",
    "w = 0.5 #влажность воздуха\n",
    "zt = 1.35 * 10**-3 #коэффиециент температуры заряда\n",
    "cd = 0.0423 #коэффиециент деривации\n",
    "m3 = 0.1744 #коэффиециент убывания угловой скорости\n",
    "S = pi*d*d/4\n",
    "Tv = (T0 + 273.15)/(1 - 3*12.7/(8.0*P0) * w)\n",
    "\n",
    "def T(y):\n",
    "    global Tv\n",
    "    return Tv - 0.0065*y\n",
    "\n",
    "def p(y):\n",
    "    global Tv,P0\n",
    "    return 1.225 * np.power(T(y)/Tv, 4.256) * P0*288.15/(Tv*760.0)\n",
    "\n",
    "def s_speed(y):\n",
    "    return 340.924 * np.power(T(y)/288.15, 1/2.0)\n",
    "\n",
    "def cx(x):\n",
    "    pa = np.array([0.0525, -0.9476, 8.9342, -9.4610, 0.3207, 4.2980, -1.9382])\n",
    "    pb = np.array([1.0000, -15.4071, 178.6690, -580.8643, 985.5873, -853.9492, 296.9213])\n",
    "    pc = np.array([0.0531, 0.9449, 90.5063, 0.1639])\n",
    "    return np.polyval(pa,x**2)/np.polyval(pb,x**2) + pc[0] / (1+np.exp(-(x-pc[1])*pc[2]))+pc[3]\n",
    "\n",
    "Tz = T0\n",
    "v0 = v15*(1+zt*(Tz-15))\n",
    "\n",
    "def Fs(i,S,p,v,a):\n",
    "    return i*S*p*v*v/2*cx(v/a)\n",
    "\n",
    "print('T0 = 5\\n')\n",
    "T0 = 5\n",
    "theta0 = 0.01\n",
    "theta1 = 0.1\n",
    "eps = 10**-15\n",
    "n = 0 \n",
    "while abs(theta1 - theta0) > eps:\n",
    "    print(\"iteration\",n)\n",
    "    print(abs(theta1 - theta0))\n",
    "    u0 = np.array([          \n",
    "        [v0*np.cos(theta1)], #u\n",
    "        [np.tan(theta1)],   #gamma\n",
    "        [0.0],                 #y\n",
    "        [0.0]                  #t\n",
    "        ])\n",
    "    ans1 = universal_runge_kutta(f, u0, np.linspace(0,2000,16), butcher, a, b)\n",
    "    \n",
    "    u0 = np.array([          \n",
    "        [v0*np.cos(theta0)],   #u\n",
    "        [np.tan(theta0)],      #gamma\n",
    "        [0.0],                 #y\n",
    "        [0.0]                  #t\n",
    "        ])\n",
    "    ans0 = universal_runge_kutta(f, u0, np.linspace(0,2000,16), butcher, a, b)\n",
    "    new_theta = theta1 - (theta1 - theta0) * ans1[0][-1][2].item(0) / (ans1[0][-1][2].item(0) - ans0[0][-1][2].item(0))\n",
    "    theta0 = theta1\n",
    "    theta1 = new_theta\n",
    "    n+=1\n",
    "theta1*180/pi/0.06"
   ]
  },
  {
   "cell_type": "code",
   "execution_count": 351,
   "metadata": {},
   "outputs": [
    {
     "name": "stdout",
     "output_type": "stream",
     "text": [
      "T0 = 15\n",
      "\n",
      "iteration 0\n",
      "iteration 1\n",
      "iteration 2\n",
      "iteration 3\n",
      "iteration 4\n",
      "iteration 5\n",
      "iteration 6\n",
      "iteration 7\n",
      "iteration 8\n",
      "iteration 9\n",
      "iteration 10\n",
      "iteration 11\n",
      "iteration 12\n",
      "iteration 13\n",
      "iteration 14\n",
      "iteration 15\n",
      "iteration 16\n",
      "iteration 17\n",
      "iteration 18\n",
      "iteration 19\n",
      "iteration 20\n"
     ]
    },
    {
     "data": {
      "text/plain": [
       "36.154331402817434"
      ]
     },
     "execution_count": 351,
     "metadata": {},
     "output_type": "execute_result"
    }
   ],
   "source": [
    "print('T0 = 15\\n')\n",
    "theta0 = 0.0\n",
    "theta1 = 0.1\n",
    "eps = 10**-15\n",
    "n = 0 \n",
    "while True:\n",
    "    print(\"iteration\",n)\n",
    "    theta = (theta0+theta1)/2\n",
    "    u0 = np.array([          \n",
    "        [v0*np.cos(theta)], #u\n",
    "        [np.tan(theta)],   #gamma\n",
    "        [0.0],                 #y\n",
    "        [0.0]                  #t\n",
    "        ])\n",
    "    ans = universal_runge_kutta(f, u0, np.linspace(0,2000,16), butcher, a, b)[0][-1][2].item(0) \n",
    "    if abs(ans) < 10**-5:\n",
    "        break\n",
    "    if ans > 0:\n",
    "        theta1 = theta\n",
    "    else:\n",
    "        theta0 = theta\n",
    "    n+=1\n",
    "theta*180/pi/0.06"
   ]
  },
  {
   "cell_type": "code",
   "execution_count": null,
   "metadata": {},
   "outputs": [],
   "source": []
  }
 ],
 "metadata": {
  "kernelspec": {
   "display_name": "Python 3",
   "language": "python",
   "name": "python3"
  },
  "language_info": {
   "codemirror_mode": {
    "name": "ipython",
    "version": 3
   },
   "file_extension": ".py",
   "mimetype": "text/x-python",
   "name": "python",
   "nbconvert_exporter": "python",
   "pygments_lexer": "ipython3",
   "version": "3.6.4"
  },
  "varInspector": {
   "cols": {
    "lenName": 16,
    "lenType": 16,
    "lenVar": 40
   },
   "kernels_config": {
    "python": {
     "delete_cmd_postfix": "",
     "delete_cmd_prefix": "del ",
     "library": "var_list.py",
     "varRefreshCmd": "print(var_dic_list())"
    },
    "r": {
     "delete_cmd_postfix": ") ",
     "delete_cmd_prefix": "rm(",
     "library": "var_list.r",
     "varRefreshCmd": "cat(var_dic_list()) "
    }
   },
   "types_to_exclude": [
    "module",
    "function",
    "builtin_function_or_method",
    "instance",
    "_Feature"
   ],
   "window_display": false
  }
 },
 "nbformat": 4,
 "nbformat_minor": 2
}
